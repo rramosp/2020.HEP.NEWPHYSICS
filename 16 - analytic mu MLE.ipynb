{
 "cells": [
  {
   "cell_type": "code",
   "execution_count": 4,
   "metadata": {},
   "outputs": [
    {
     "name": "stdout",
     "output_type": "stream",
     "text": [
      "Collecting git+https://github.com/rramosp/rlxml\n",
      "  Cloning https://github.com/rramosp/rlxml to /tmp/pip-req-build-_ev50dg4\n",
      "  Running command git clone -q https://github.com/rramosp/rlxml /tmp/pip-req-build-_ev50dg4\n",
      "Requirement already satisfied, skipping upgrade: matplotlib in /opt/anaconda/envs/p38/lib/python3.8/site-packages (from rlxml==0.1.0) (3.2.1)\n",
      "Requirement already satisfied, skipping upgrade: numpy in /opt/anaconda/envs/p38/lib/python3.8/site-packages (from rlxml==0.1.0) (1.19.5)\n",
      "Requirement already satisfied, skipping upgrade: pandas in /opt/anaconda/envs/p38/lib/python3.8/site-packages (from rlxml==0.1.0) (1.0.5)\n",
      "Requirement already satisfied, skipping upgrade: joblib in /opt/anaconda/envs/p38/lib/python3.8/site-packages (from rlxml==0.1.0) (0.16.0)\n",
      "Requirement already satisfied, skipping upgrade: progressbar2 in /opt/anaconda/envs/p38/lib/python3.8/site-packages (from rlxml==0.1.0) (3.53.1)\n",
      "Requirement already satisfied, skipping upgrade: psutil in /opt/anaconda/envs/p38/lib/python3.8/site-packages (from rlxml==0.1.0) (5.7.0)\n",
      "Requirement already satisfied, skipping upgrade: bokeh in /opt/anaconda/envs/p38/lib/python3.8/site-packages (from rlxml==0.1.0) (2.0.2)\n",
      "Requirement already satisfied, skipping upgrade: pyshp in /opt/anaconda/envs/p38/lib/python3.8/site-packages (from rlxml==0.1.0) (2.1.0)\n",
      "Requirement already satisfied, skipping upgrade: statsmodels in /opt/anaconda/envs/p38/lib/python3.8/site-packages (from rlxml==0.1.0) (0.11.1)\n",
      "Requirement already satisfied, skipping upgrade: scipy in /opt/anaconda/envs/p38/lib/python3.8/site-packages (from rlxml==0.1.0) (1.4.1)\n",
      "Requirement already satisfied, skipping upgrade: pyparsing!=2.0.4,!=2.1.2,!=2.1.6,>=2.0.1 in /opt/anaconda/envs/p38/lib/python3.8/site-packages (from matplotlib->rlxml==0.1.0) (2.4.7)\n",
      "Requirement already satisfied, skipping upgrade: python-dateutil>=2.1 in /opt/anaconda/envs/p38/lib/python3.8/site-packages (from matplotlib->rlxml==0.1.0) (2.8.1)\n",
      "Requirement already satisfied, skipping upgrade: kiwisolver>=1.0.1 in /opt/anaconda/envs/p38/lib/python3.8/site-packages (from matplotlib->rlxml==0.1.0) (1.2.0)\n",
      "Requirement already satisfied, skipping upgrade: cycler>=0.10 in /opt/anaconda/envs/p38/lib/python3.8/site-packages (from matplotlib->rlxml==0.1.0) (0.10.0)\n",
      "Requirement already satisfied, skipping upgrade: pytz>=2017.2 in /opt/anaconda/envs/p38/lib/python3.8/site-packages (from pandas->rlxml==0.1.0) (2020.1)\n",
      "Requirement already satisfied, skipping upgrade: python-utils>=2.3.0 in /opt/anaconda/envs/p38/lib/python3.8/site-packages (from progressbar2->rlxml==0.1.0) (2.4.0)\n",
      "Requirement already satisfied, skipping upgrade: six in /opt/anaconda/envs/p38/lib/python3.8/site-packages (from progressbar2->rlxml==0.1.0) (1.15.0)\n",
      "Requirement already satisfied, skipping upgrade: PyYAML>=3.10 in /opt/anaconda/envs/p38/lib/python3.8/site-packages (from bokeh->rlxml==0.1.0) (5.3.1)\n",
      "Requirement already satisfied, skipping upgrade: Jinja2>=2.7 in /opt/anaconda/envs/p38/lib/python3.8/site-packages (from bokeh->rlxml==0.1.0) (2.11.2)\n",
      "Requirement already satisfied, skipping upgrade: tornado>=5 in /opt/anaconda/envs/p38/lib/python3.8/site-packages (from bokeh->rlxml==0.1.0) (6.0.4)\n",
      "Requirement already satisfied, skipping upgrade: pillow>=4.0 in /opt/anaconda/envs/p38/lib/python3.8/site-packages (from bokeh->rlxml==0.1.0) (7.1.2)\n",
      "Requirement already satisfied, skipping upgrade: packaging>=16.8 in /opt/anaconda/envs/p38/lib/python3.8/site-packages (from bokeh->rlxml==0.1.0) (20.4)\n",
      "Requirement already satisfied, skipping upgrade: typing-extensions>=3.7.4 in /opt/anaconda/envs/p38/lib/python3.8/site-packages (from bokeh->rlxml==0.1.0) (3.7.4.2)\n",
      "Requirement already satisfied, skipping upgrade: patsy>=0.5 in /opt/anaconda/envs/p38/lib/python3.8/site-packages (from statsmodels->rlxml==0.1.0) (0.5.1)\n",
      "Requirement already satisfied, skipping upgrade: MarkupSafe>=0.23 in /opt/anaconda/envs/p38/lib/python3.8/site-packages (from Jinja2>=2.7->bokeh->rlxml==0.1.0) (1.1.1)\n",
      "Building wheels for collected packages: rlxml\n",
      "  Building wheel for rlxml (setup.py) ... \u001b[?25ldone\n",
      "\u001b[?25h  Created wheel for rlxml: filename=rlxml-0.1.0-py3-none-any.whl size=18806 sha256=e2fa2b6e37161569240de13478b9791eb59742c6d1d20277b66c51aaa6622835\n",
      "  Stored in directory: /tmp/pip-ephem-wheel-cache-mktv4_dq/wheels/fb/f5/9d/9e2d9eb3660e4a7b9b7dac84bfe42f0a28b0e180a252cd37ea\n",
      "Successfully built rlxml\n",
      "Installing collected packages: rlxml\n",
      "  Attempting uninstall: rlxml\n",
      "    Found existing installation: rlxml 0.1.0\n",
      "    Uninstalling rlxml-0.1.0:\n",
      "      Successfully uninstalled rlxml-0.1.0\n",
      "Successfully installed rlxml-0.1.0\n",
      "Collecting git+https://github.com/rramosp/rlxutils\n",
      "  Cloning https://github.com/rramosp/rlxutils to /tmp/pip-req-build-n5ji15ga\n",
      "  Running command git clone -q https://github.com/rramosp/rlxutils /tmp/pip-req-build-n5ji15ga\n",
      "Requirement already satisfied, skipping upgrade: matplotlib in /opt/anaconda/envs/p38/lib/python3.8/site-packages (from rlxutils==0.0.1) (3.2.1)\n",
      "Requirement already satisfied, skipping upgrade: numpy in /opt/anaconda/envs/p38/lib/python3.8/site-packages (from rlxutils==0.0.1) (1.19.5)\n",
      "Requirement already satisfied, skipping upgrade: pandas in /opt/anaconda/envs/p38/lib/python3.8/site-packages (from rlxutils==0.0.1) (1.0.5)\n",
      "Requirement already satisfied, skipping upgrade: joblib in /opt/anaconda/envs/p38/lib/python3.8/site-packages (from rlxutils==0.0.1) (0.16.0)\n",
      "Requirement already satisfied, skipping upgrade: progressbar2 in /opt/anaconda/envs/p38/lib/python3.8/site-packages (from rlxutils==0.0.1) (3.53.1)\n",
      "Requirement already satisfied, skipping upgrade: psutil in /opt/anaconda/envs/p38/lib/python3.8/site-packages (from rlxutils==0.0.1) (5.7.0)\n",
      "Requirement already satisfied, skipping upgrade: bokeh in /opt/anaconda/envs/p38/lib/python3.8/site-packages (from rlxutils==0.0.1) (2.0.2)\n",
      "Requirement already satisfied, skipping upgrade: pyshp in /opt/anaconda/envs/p38/lib/python3.8/site-packages (from rlxutils==0.0.1) (2.1.0)\n",
      "Requirement already satisfied, skipping upgrade: statsmodels in /opt/anaconda/envs/p38/lib/python3.8/site-packages (from rlxutils==0.0.1) (0.11.1)\n",
      "Requirement already satisfied, skipping upgrade: cycler>=0.10 in /opt/anaconda/envs/p38/lib/python3.8/site-packages (from matplotlib->rlxutils==0.0.1) (0.10.0)\n",
      "Requirement already satisfied, skipping upgrade: pyparsing!=2.0.4,!=2.1.2,!=2.1.6,>=2.0.1 in /opt/anaconda/envs/p38/lib/python3.8/site-packages (from matplotlib->rlxutils==0.0.1) (2.4.7)\n",
      "Requirement already satisfied, skipping upgrade: python-dateutil>=2.1 in /opt/anaconda/envs/p38/lib/python3.8/site-packages (from matplotlib->rlxutils==0.0.1) (2.8.1)\n",
      "Requirement already satisfied, skipping upgrade: kiwisolver>=1.0.1 in /opt/anaconda/envs/p38/lib/python3.8/site-packages (from matplotlib->rlxutils==0.0.1) (1.2.0)\n",
      "Requirement already satisfied, skipping upgrade: pytz>=2017.2 in /opt/anaconda/envs/p38/lib/python3.8/site-packages (from pandas->rlxutils==0.0.1) (2020.1)\n",
      "Requirement already satisfied, skipping upgrade: python-utils>=2.3.0 in /opt/anaconda/envs/p38/lib/python3.8/site-packages (from progressbar2->rlxutils==0.0.1) (2.4.0)\n",
      "Requirement already satisfied, skipping upgrade: six in /opt/anaconda/envs/p38/lib/python3.8/site-packages (from progressbar2->rlxutils==0.0.1) (1.15.0)\n",
      "Requirement already satisfied, skipping upgrade: Jinja2>=2.7 in /opt/anaconda/envs/p38/lib/python3.8/site-packages (from bokeh->rlxutils==0.0.1) (2.11.2)\n",
      "Requirement already satisfied, skipping upgrade: tornado>=5 in /opt/anaconda/envs/p38/lib/python3.8/site-packages (from bokeh->rlxutils==0.0.1) (6.0.4)\n",
      "Requirement already satisfied, skipping upgrade: typing-extensions>=3.7.4 in /opt/anaconda/envs/p38/lib/python3.8/site-packages (from bokeh->rlxutils==0.0.1) (3.7.4.2)\n",
      "Requirement already satisfied, skipping upgrade: PyYAML>=3.10 in /opt/anaconda/envs/p38/lib/python3.8/site-packages (from bokeh->rlxutils==0.0.1) (5.3.1)\n",
      "Requirement already satisfied, skipping upgrade: packaging>=16.8 in /opt/anaconda/envs/p38/lib/python3.8/site-packages (from bokeh->rlxutils==0.0.1) (20.4)\n",
      "Requirement already satisfied, skipping upgrade: pillow>=4.0 in /opt/anaconda/envs/p38/lib/python3.8/site-packages (from bokeh->rlxutils==0.0.1) (7.1.2)\n",
      "Requirement already satisfied, skipping upgrade: scipy>=1.0 in /opt/anaconda/envs/p38/lib/python3.8/site-packages (from statsmodels->rlxutils==0.0.1) (1.4.1)\n",
      "Requirement already satisfied, skipping upgrade: patsy>=0.5 in /opt/anaconda/envs/p38/lib/python3.8/site-packages (from statsmodels->rlxutils==0.0.1) (0.5.1)\n",
      "Requirement already satisfied, skipping upgrade: MarkupSafe>=0.23 in /opt/anaconda/envs/p38/lib/python3.8/site-packages (from Jinja2>=2.7->bokeh->rlxutils==0.0.1) (1.1.1)\n",
      "Building wheels for collected packages: rlxutils\n"
     ]
    },
    {
     "name": "stdout",
     "output_type": "stream",
     "text": [
      "  Building wheel for rlxutils (setup.py) ... \u001b[?25ldone\n",
      "\u001b[?25h  Created wheel for rlxutils: filename=rlxutils-0.0.1-py3-none-any.whl size=3331 sha256=7b847c40c167991191ab8239f579f0bba260da059f604faa43817be5573ea356\n",
      "  Stored in directory: /tmp/pip-ephem-wheel-cache-cciidrw9/wheels/32/fc/45/0f0a86abc05fd23b44890963251daad9df596b8f69b603b65d\n",
      "Successfully built rlxutils\n",
      "Installing collected packages: rlxutils\n",
      "  Attempting uninstall: rlxutils\n",
      "    Found existing installation: rlxutils 0.0.1\n",
      "    Uninstalling rlxutils-0.0.1:\n",
      "      Successfully uninstalled rlxutils-0.0.1\n",
      "Successfully installed rlxutils-0.0.1\n"
     ]
    }
   ],
   "source": [
    "import sys; pip = \"/\".join(sys.executable.split(\"/\")[:-1])+\"/pip\"\n",
    "!$pip install --upgrade git+https://github.com/rramosp/rlxml\n",
    "!$pip install --upgrade git+https://github.com/rramosp/rlxutils"
   ]
  },
  {
   "cell_type": "code",
   "execution_count": null,
   "metadata": {},
   "outputs": [],
   "source": [
    "#!$pip install --upgrade git+file:///home/rlx/Dropbox/proyectos/rlxlibs/rlxml\n"
   ]
  },
  {
   "cell_type": "code",
   "execution_count": 5,
   "metadata": {},
   "outputs": [
    {
     "data": {
      "text/plain": [
       "<module 'rlxml.newphysics' from '/opt/anaconda/envs/p38/lib/python3.8/site-packages/rlxml/newphysics.py'>"
      ]
     },
     "execution_count": 5,
     "metadata": {},
     "output_type": "execute_result"
    }
   ],
   "source": [
    "import sympy as sy\n",
    "import numpy as np\n",
    "import matplotlib.pyplot as plt\n",
    "import tensorflow as tf\n",
    "from progressbar import progressbar as pbar\n",
    "from scipy import stats\n",
    "from rlxml import newphysics as phy\n",
    "from importlib import reload\n",
    "from joblib import delayed\n",
    "import rlxutils\n",
    "import pandas as pd\n",
    "%matplotlib inline\n",
    "reload(phy)"
   ]
  },
  {
   "cell_type": "code",
   "execution_count": 6,
   "metadata": {},
   "outputs": [
    {
     "data": {
      "text/plain": [
       "array([  0.,  50., 100., 150., 200., 250., 300., 350., 400., 450., 500.,\n",
       "       550., 600., 650., 700., 750., 800., 850., 900., 950.,  inf])"
      ]
     },
     "execution_count": 6,
     "metadata": {},
     "output_type": "execute_result"
    }
   ],
   "source": [
    "alpha=0.05\n",
    "t, mu_s, sigma_s, real_mu = 0.01, 250, 10, 0.9\n",
    "n_events = 11000 # number of events per experiment\n",
    "n_experiments = 2000 # number of experiments (each one with n_events) for empirical distributions\n",
    "\n",
    "n_bins=20\n",
    "bin_edges = np.r_[list(np.linspace(0,950,n_bins))+[np.inf]]\n",
    "bin_edges"
   ]
  },
  {
   "cell_type": "code",
   "execution_count": 7,
   "metadata": {},
   "outputs": [],
   "source": [
    "mb = phy.SignalBg_BinnedModel(t=t, mu_s=mu_s, sigma_s=sigma_s, mu=real_mu, \n",
    "                              bin_edges=bin_edges, n_events=n_events)\n",
    "h = mb.rvs()\n"
   ]
  },
  {
   "cell_type": "code",
   "execution_count": 8,
   "metadata": {},
   "outputs": [
    {
     "data": {
      "text/plain": [
       "array([2340, 1406,  835,  501, 2936, 2812,  121,   80,   49,   38,    9,\n",
       "         15,    6,    8,    2,    3,    0,    0,    0,    0])"
      ]
     },
     "execution_count": 8,
     "metadata": {},
     "output_type": "execute_result"
    }
   ],
   "source": [
    "h = mb.rvs()\n",
    "h"
   ]
  },
  {
   "cell_type": "code",
   "execution_count": 9,
   "metadata": {},
   "outputs": [
    {
     "data": {
      "text/plain": [
       "-64.15913115265596"
      ]
     },
     "execution_count": 9,
     "metadata": {},
     "output_type": "execute_result"
    }
   ],
   "source": [
    "mb.log_prob(h)"
   ]
  },
  {
   "cell_type": "code",
   "execution_count": 10,
   "metadata": {},
   "outputs": [
    {
     "data": {
      "text/latex": [
       "$\\displaystyle \\frac{- 7.53382895057467 \\cdot 10^{-128} \\mu^{7} + 1.58355011204882 \\cdot 10^{-127} \\mu^{6} + 3.80977897304772 \\cdot 10^{-146} \\mu^{5} + 1.2062014535461 \\cdot 10^{-202} \\mu^{4} + 3.20513257345395 \\cdot 10^{-286} \\mu^{3} + 2.24515926857282 \\cdot 10^{-385} \\mu^{2} + 2.24898334007605 \\cdot 10^{-485} \\mu + 3.72796980098314 \\cdot 10^{-591}}{1.44603242813333 \\cdot 10^{-131} \\mu^{7} + 4.42431654052691 \\cdot 10^{-150} \\mu^{6} + 1.67411721519237 \\cdot 10^{-206} \\mu^{5} + 5.03160529584607 \\cdot 10^{-290} \\mu^{4} + 3.63313363904847 \\cdot 10^{-389} \\mu^{3} + 3.91264135027659 \\cdot 10^{-489} \\mu^{2} + 1.29031963627573 \\cdot 10^{-594} \\mu + 1.0 \\cdot 10^{-700}}$"
      ],
      "text/plain": [
       "(-7.53382895057467e-128*\\mu**7 + 1.58355011204882e-127*\\mu**6 + 3.80977897304772e-146*\\mu**5 + 1.2062014535461e-202*\\mu**4 + 3.20513257345395e-286*\\mu**3 + 2.24515926857282e-385*\\mu**2 + 2.24898334007605e-485*\\mu + 3.72796980098314e-591)/(1.44603242813333e-131*\\mu**7 + 4.42431654052691e-150*\\mu**6 + 1.67411721519237e-206*\\mu**5 + 5.03160529584607e-290*\\mu**4 + 3.63313363904847e-389*\\mu**3 + 3.91264135027659e-489*\\mu**2 + 1.29031963627573e-594*\\mu + 1.0e-700)"
      ]
     },
     "execution_count": 10,
     "metadata": {},
     "output_type": "execute_result"
    }
   ],
   "source": [
    "self = mb\n",
    "smu = sy.symbols(r\"\\mu\")\n",
    "logL = sum([n*sy.log(smu*s*b+1e-100) - smu*s for n,s,b in zip(h, self.si, self.bi)])\n",
    "logLd = logL.simplify().diff(smu).simplify()\n",
    "logLd"
   ]
  },
  {
   "cell_type": "code",
   "execution_count": null,
   "metadata": {},
   "outputs": [],
   "source": []
  },
  {
   "cell_type": "code",
   "execution_count": null,
   "metadata": {},
   "outputs": [],
   "source": []
  },
  {
   "cell_type": "code",
   "execution_count": 11,
   "metadata": {},
   "outputs": [],
   "source": [
    "mb = phy.SignalBg_BinnedModel(t=t, mu_s=mu_s, sigma_s=sigma_s, mu=0.3, \n",
    "                              bin_edges=bin_edges, n_events=n_events)\n",
    "h = mb.rvs()"
   ]
  },
  {
   "cell_type": "code",
   "execution_count": 12,
   "metadata": {},
   "outputs": [],
   "source": [
    "self = mb\n",
    "r_mu = np.linspace(.1,2, 100)\n",
    "lp = [self.clone().set_mu(i).log_prob(h) for i in r_mu ]"
   ]
  },
  {
   "cell_type": "code",
   "execution_count": 13,
   "metadata": {},
   "outputs": [
    {
     "name": "stdout",
     "output_type": "stream",
     "text": [
      "         2149029 function calls (2103429 primitive calls) in 1.482 seconds\n",
      "\n",
      "   Ordered by: standard name\n",
      "\n",
      "   ncalls  tottime  percall  cumtime  percall filename:lineno(function)\n",
      "     8400    0.004    0.000    0.082    0.000 <__array_function__ internals>:2(any)\n",
      "     7800    0.004    0.000    0.039    0.000 <__array_function__ internals>:2(atleast_1d)\n",
      "      400    0.000    0.000    0.001    0.000 <__array_function__ internals>:2(copyto)\n",
      "     7800    0.004    0.000    0.125    0.000 <__array_function__ internals>:2(extract)\n",
      "      400    0.000    0.000    0.001    0.000 <__array_function__ internals>:2(ndim)\n",
      "     7800    0.003    0.000    0.020    0.000 <__array_function__ internals>:2(nonzero)\n",
      "    24600    0.011    0.000    0.075    0.000 <__array_function__ internals>:2(place)\n",
      "    15600    0.007    0.000    0.050    0.000 <__array_function__ internals>:2(ravel)\n",
      "     8400    0.005    0.000    0.016    0.000 <__array_function__ internals>:2(shape)\n",
      "     2200    0.001    0.000    0.014    0.000 <__array_function__ internals>:2(sum)\n",
      "     7800    0.004    0.000    0.027    0.000 <__array_function__ internals>:2(take)\n",
      "     1600    0.001    0.000    0.001    0.000 <frozen importlib._bootstrap>:1017(_handle_fromlist)\n",
      "        1    0.001    0.001    1.483    1.483 <string>:1(<listcomp>)\n",
      "        1    0.000    0.000    1.483    1.483 <string>:1(<module>)\n",
      "     1200    0.000    0.000    0.001    0.000 <string>:1(__new__)\n",
      "        1    0.000    0.000    0.000    0.000 <string>:2(<module>)\n",
      "       22    0.000    0.000    0.000    0.000 <string>:2(_parse_args)\n",
      "44600/44200    0.009    0.000    0.042    0.000 _asarray.py:14(asarray)\n",
      "    23400    0.005    0.000    0.017    0.000 _asarray.py:86(asanyarray)\n",
      "     3800    0.009    0.000    0.009    0.000 _continuous_distns.py:1410(_cdf)\n",
      "     4000    0.005    0.000    0.005    0.000 _continuous_distns.py:187(_norm_cdf)\n",
      "     4000    0.001    0.000    0.006    0.000 _continuous_distns.py:244(_cdf)\n",
      "      400    0.008    0.000    0.234    0.001 _distn_infrastructure.py:1572(__init__)\n",
      "      400    0.001    0.000    0.001    0.000 _distn_infrastructure.py:1637(_updated_ctor_param)\n",
      "     8400    0.225    0.000    0.786    0.000 _distn_infrastructure.py:1797(cdf)\n",
      "      400    0.003    0.000    0.238    0.001 _distn_infrastructure.py:423(__init__)\n",
      "     1200    0.000    0.000    0.000    0.000 _distn_infrastructure.py:44(instancemethod)\n",
      "     8400    0.015    0.000    0.801    0.000 _distn_infrastructure.py:448(cdf)\n",
      "     7800    0.012    0.000    0.203    0.000 _distn_infrastructure.py:520(argsreduce)\n",
      "     7800    0.025    0.000    0.150    0.000 _distn_infrastructure.py:545(<listcomp>)\n",
      "      400    0.001    0.000    0.018    0.000 _distn_infrastructure.py:587(__init__)\n",
      "      400    0.004    0.000    0.065    0.000 _distn_infrastructure.py:622(_construct_argparser)\n",
      "      400    0.004    0.000    0.140    0.000 _distn_infrastructure.py:702(_construct_doc)\n",
      "      400    0.000    0.000    0.000    0.000 _distn_infrastructure.py:710(<genexpr>)\n",
      "      400    0.001    0.000    0.239    0.001 _distn_infrastructure.py:753(freeze)\n",
      "      400    0.000    0.000    0.239    0.001 _distn_infrastructure.py:770(__call__)\n",
      "     8800    0.002    0.000    0.002    0.000 _distn_infrastructure.py:864(_argcheck)\n",
      "    17200    0.003    0.000    0.003    0.000 _distn_infrastructure.py:876(_get_support)\n",
      "     8400    0.018    0.000    0.020    0.000 _distn_infrastructure.py:901(_open_support_mask)\n",
      "      800    0.000    0.000    0.000    0.000 _dtype.py:24(_kind_name)\n",
      "      800    0.001    0.000    0.002    0.000 _dtype.py:307(_name_includes_bit_suffix)\n",
      "      800    0.002    0.000    0.005    0.000 _dtype.py:321(_name_get)\n",
      "     8400    0.003    0.000    0.028    0.000 _methods.py:53(_any)\n",
      "      400    0.000    0.000    0.000    0.000 _util.py:174(check_random_state)\n",
      "     1200    0.005    0.000    0.045    0.000 _util.py:277(getargspec_no_self)\n",
      "     1200    0.001    0.000    0.001    0.000 _util.py:299(<listcomp>)\n",
      "     1200    0.000    0.000    0.001    0.000 _util.py:303(<listcomp>)\n",
      "     1200    0.000    0.000    0.000    0.000 _util.py:308(<listcomp>)\n",
      "     1200    0.001    0.000    0.001    0.000 _util.py:313(<listcomp>)\n",
      "      400    0.000    0.000    0.000    0.000 _validators.py:207(validate_bool_kwarg)\n",
      "        1    0.000    0.000    0.000    0.000 _weakrefset.py:38(_remove)\n",
      "     8000    0.002    0.000    0.004    0.000 abc.py:96(__instancecheck__)\n",
      "      400    0.006    0.000    0.017    0.000 algorithms.py:1822(diff)\n",
      "      400    0.000    0.000    0.000    0.000 arrayprint.py:1137(__init__)\n",
      "     8400    0.001    0.000    0.001    0.000 arrayprint.py:1142(__call__)\n",
      "      400    0.001    0.000    0.031    0.000 arrayprint.py:1473(_array_str_implementation)\n",
      "      400    0.002    0.000    0.002    0.000 arrayprint.py:358(_get_formatdict)\n",
      "      400    0.000    0.000    0.001    0.000 arrayprint.py:364(<lambda>)\n",
      "      400    0.002    0.000    0.005    0.000 arrayprint.py:409(_get_format_function)\n",
      "      400    0.001    0.000    0.026    0.000 arrayprint.py:461(wrapper)\n",
      "      400    0.002    0.000    0.025    0.000 arrayprint.py:478(_array2string)\n",
      "      400    0.001    0.000    0.030    0.000 arrayprint.py:516(array2string)\n",
      "      400    0.001    0.000    0.002    0.000 arrayprint.py:60(_make_options_dict)\n",
      "      400    0.000    0.000    0.000    0.000 arrayprint.py:65(<dictcomp>)\n",
      "     8400    0.004    0.000    0.006    0.000 arrayprint.py:695(_extendLine)\n",
      "      400    0.000    0.000    0.018    0.000 arrayprint.py:709(_formatArray)\n",
      " 8800/400    0.010    0.000    0.018    0.000 arrayprint.py:718(recurser)\n",
      "     1200    0.000    0.000    0.000    0.000 base.py:1182(name)\n",
      "      400    0.000    0.000    0.001    0.000 base.py:1186(name)\n",
      "     8000    0.003    0.000    0.015    0.000 base.py:247(is_dtype)\n",
      "      400    0.004    0.000    0.020    0.000 base.py:276(__new__)\n",
      "      400    0.000    0.000    0.001    0.000 base.py:2853(_convert_scalar_indexer)\n",
      "      400    0.000    0.000    0.003    0.000 base.py:3639(values)\n",
      "      400    0.002    0.000    0.034    0.000 base.py:3912(__getitem__)\n",
      "      400    0.003    0.000    0.053    0.000 base.py:4373(get_value)\n",
      "      800    0.001    0.000    0.003    0.000 base.py:472(_simple_new)\n",
      "      400    0.000    0.000    0.000    0.000 base.py:4723(_maybe_cast_indexer)\n",
      "      400    0.000    0.000    0.001    0.000 base.py:505(_get_attributes_dict)\n",
      "      400    0.000    0.000    0.000    0.000 base.py:509(<dictcomp>)\n",
      "      400    0.000    0.000    0.000    0.000 base.py:5294(ensure_index)\n",
      "      400    0.001    0.000    0.008    0.000 base.py:5388(default_index)\n",
      "     2400    0.002    0.000    0.005    0.000 base.py:5394(maybe_extract_name)\n",
      "      400    0.001    0.000    0.022    0.000 base.py:544(_shallow_copy_with_infer)\n",
      "     1200    0.000    0.000    0.000    0.000 base.py:592(_reset_identity)\n",
      "      400    0.001    0.000    0.006    0.000 base.py:602(_engine)\n",
      "      400    0.000    0.000    0.000    0.000 base.py:615(__len__)\n",
      "      400    0.000    0.000    0.005    0.000 base.py:853(_ndarray_values)\n",
      "     1200    0.002    0.000    0.005    0.000 blocks.py:118(__init__)\n",
      "     1200    0.000    0.000    0.000    0.000 blocks.py:129(_check_ndim)\n",
      "      400    0.000    0.000    0.000    0.000 blocks.py:202(external_values)\n",
      "      800    0.001    0.000    0.003    0.000 blocks.py:219(array_values)\n",
      "      800    0.000    0.000    0.001    0.000 blocks.py:240(to_dense)\n",
      "     1200    0.000    0.000    0.000    0.000 blocks.py:247(mgr_locs)\n",
      "     1200    0.001    0.000    0.001    0.000 blocks.py:251(mgr_locs)\n",
      "     1200    0.003    0.000    0.022    0.000 blocks.py:2987(get_block_type)\n",
      "     1200    0.002    0.000    0.030    0.000 blocks.py:3033(make_block)\n",
      "      400    0.001    0.000    0.001    0.000 blocks.py:311(_slice)\n",
      "      800    0.000    0.000    0.000    0.000 blocks.py:339(dtype)\n",
      "      400    0.002    0.000    0.005    0.000 cast.py:1088(maybe_castable)\n",
      "      400    0.002    0.000    0.002    0.000 cast.py:1209(maybe_cast_to_datetime)\n",
      "      400    0.002    0.000    0.003    0.000 cast.py:1458(construct_1d_object_array_from_listlike)\n",
      "      400    0.001    0.000    0.013    0.000 cast.py:70(maybe_convert_platform)\n",
      "      800    0.001    0.000    0.003    0.000 common.py:1108(is_datetime_or_timedelta_dtype)\n",
      "      800    0.001    0.000    0.008    0.000 common.py:1282(needs_i8_conversion)\n",
      "     1600    0.002    0.000    0.006    0.000 common.py:1435(is_bool_dtype)\n",
      "     7600    0.005    0.000    0.014    0.000 common.py:1565(is_extension_array_dtype)\n",
      "      400    0.000    0.000    0.001    0.000 common.py:1647(_is_dtype)\n",
      "     2800    0.001    0.000    0.001    0.000 common.py:1672(_get_dtype)\n",
      "     4000    0.003    0.000    0.006    0.000 common.py:1708(_is_dtype_type)\n",
      "      800    0.000    0.000    0.001    0.000 common.py:179(ensure_python_int)\n",
      "      400    0.000    0.000    0.001    0.000 common.py:183(all_none)\n",
      "     1600    0.001    0.000    0.001    0.000 common.py:1844(pandas_dtype)\n",
      "      800    0.000    0.000    0.000    0.000 common.py:187(<genexpr>)\n",
      "     3200    0.001    0.000    0.001    0.000 common.py:206(classes)\n",
      "     3200    0.001    0.000    0.001    0.000 common.py:208(<lambda>)\n",
      "      800    0.000    0.000    0.000    0.000 common.py:211(classes_and_not_datetimelike)\n",
      "      800    0.000    0.000    0.000    0.000 common.py:216(<lambda>)\n",
      "     1200    0.001    0.000    0.003    0.000 common.py:222(is_object_dtype)\n",
      "     1200    0.002    0.000    0.003    0.000 common.py:252(is_sparse)\n",
      "      400    0.000    0.000    0.001    0.000 common.py:275(maybe_iterable_to_list)\n",
      "      400    0.000    0.000    0.000    0.000 common.py:330(apply_if_callable)\n",
      "     1200    0.001    0.000    0.004    0.000 common.py:339(is_categorical)\n",
      "      400    0.000    0.000    0.002    0.000 common.py:372(is_datetime64_dtype)\n",
      "     2400    0.001    0.000    0.006    0.000 common.py:403(is_datetime64tz_dtype)\n",
      "      800    0.001    0.000    0.002    0.000 common.py:441(is_timedelta64_dtype)\n",
      "     2800    0.001    0.000    0.007    0.000 common.py:472(is_period_dtype)\n",
      "     2000    0.001    0.000    0.005    0.000 common.py:506(is_interval_dtype)\n",
      "     2000    0.001    0.000    0.004    0.000 common.py:542(is_categorical_dtype)\n",
      "      400    0.000    0.000    0.001    0.000 common.py:575(is_string_dtype)\n",
      "      400    0.000    0.000    0.000    0.000 common.py:605(condition)\n",
      "      400    0.000    0.000    0.001    0.000 common.py:685(is_dtype_equal)\n",
      "      400    0.000    0.000    0.001    0.000 common.py:775(is_integer_dtype)\n",
      "      400    0.000    0.000    0.001    0.000 common.py:830(is_signed_integer_dtype)\n",
      "      800    0.000    0.000    0.003    0.000 common.py:987(is_datetime64_any_dtype)\n",
      "      800    0.001    0.000    0.005    0.000 common.py:99(is_bool_indexer)\n",
      "     1200    0.001    0.000    0.006    0.000 construction.py:337(extract_array)\n",
      "      800    0.003    0.000    0.033    0.000 construction.py:388(sanitize_array)\n",
      "      400    0.000    0.000    0.006    0.000 construction.py:506(_try_cast)\n",
      "      800    0.001    0.000    0.002    0.000 construction.py:570(is_empty_data)\n",
      "      800    0.048    0.000    0.124    0.000 doccer.py:12(docformat)\n",
      "      800    0.016    0.000    0.029    0.000 doccer.py:179(indentcount_lines)\n",
      "     1600    0.002    0.000    0.004    0.000 dtypes.py:1124(is_dtype)\n",
      "     7600    0.004    0.000    0.006    0.000 dtypes.py:75(find)\n",
      "     2400    0.002    0.000    0.006    0.000 dtypes.py:917(is_dtype)\n",
      "     2000    0.001    0.000    0.002    0.000 enum.py:278(__call__)\n",
      "     2000    0.000    0.000    0.000    0.000 enum.py:557(__new__)\n",
      "    15600    0.002    0.000    0.002    0.000 fromnumeric.py:1701(_ravel_dispatcher)\n",
      "    15600    0.011    0.000    0.033    0.000 fromnumeric.py:1705(ravel)\n",
      "     7800    0.001    0.000    0.001    0.000 fromnumeric.py:1812(_nonzero_dispatcher)\n",
      "     7800    0.003    0.000    0.013    0.000 fromnumeric.py:1816(nonzero)\n",
      "     8400    0.001    0.000    0.001    0.000 fromnumeric.py:1911(_shape_dispatcher)\n",
      "     8400    0.003    0.000    0.003    0.000 fromnumeric.py:1915(shape)\n",
      "     2200    0.000    0.000    0.000    0.000 fromnumeric.py:2100(_sum_dispatcher)\n",
      "     2200    0.002    0.000    0.012    0.000 fromnumeric.py:2105(sum)\n",
      "     8400    0.001    0.000    0.001    0.000 fromnumeric.py:2245(_any_dispatcher)\n",
      "     8400    0.007    0.000    0.069    0.000 fromnumeric.py:2249(any)\n",
      "      400    0.000    0.000    0.000    0.000 fromnumeric.py:3071(_ndim_dispatcher)\n",
      "      400    0.000    0.000    0.000    0.000 fromnumeric.py:3075(ndim)\n",
      "    15600    0.007    0.000    0.024    0.000 fromnumeric.py:52(_wrapfunc)\n",
      "    10600    0.020    0.000    0.072    0.000 fromnumeric.py:70(_wrapreduction)\n",
      "    10600    0.004    0.000    0.004    0.000 fromnumeric.py:71(<dictcomp>)\n",
      "     7800    0.001    0.000    0.001    0.000 fromnumeric.py:90(_take_dispatcher)\n",
      "     7800    0.005    0.000    0.020    0.000 fromnumeric.py:94(take)\n",
      "     7800    0.001    0.000    0.001    0.000 function_base.py:1641(_extract_dispatcher)\n",
      "     7800    0.017    0.000    0.113    0.000 function_base.py:1645(extract)\n",
      "    24600    0.003    0.000    0.003    0.000 function_base.py:1697(_place_dispatcher)\n",
      "    24600    0.011    0.000    0.042    0.000 function_base.py:1701(place)\n",
      "     1600    0.002    0.000    0.003    0.000 function_base.py:2048(__init__)\n",
      "      100    0.000    0.000    0.164    0.002 function_base.py:2080(__call__)\n",
      "      100    0.001    0.000    0.038    0.000 function_base.py:2110(_get_ufunc_and_otypes)\n",
      "      100    0.000    0.000    0.000    0.000 function_base.py:2140(<listcomp>)\n",
      "      200    0.000    0.000    0.000    0.000 function_base.py:2141(<genexpr>)\n",
      "      100    0.000    0.000    0.000    0.000 function_base.py:2145(<listcomp>)\n",
      "      100    0.000    0.000    0.000    0.000 function_base.py:2169(<listcomp>)\n",
      "      100    0.001    0.000    0.164    0.002 function_base.py:2179(_vectorize_call)\n",
      "      100    0.000    0.000    0.000    0.000 function_base.py:2189(<listcomp>)\n",
      "    40800    0.009    0.000    0.012    0.000 generic.py:10(_check)\n",
      "     1200    0.002    0.000    0.002    0.000 generic.py:190(__init__)\n",
      "      800    0.000    0.000    0.000    0.000 generic.py:238(attrs)\n",
      "      400    0.001    0.000    0.001    0.000 generic.py:396(_get_axis_number)\n",
      "      800    0.001    0.000    0.003    0.000 generic.py:5235(__finalize__)\n",
      "     1200    0.001    0.000    0.001    0.000 generic.py:5257(__getattr__)\n",
      "     1200    0.003    0.000    0.007    0.000 generic.py:5276(__setattr__)\n",
      "      400    0.002    0.000    0.006    0.000 indexers.py:278(check_array_indexer)\n",
      "      400    0.001    0.000    0.009    0.000 indexing.py:2286(check_bool_indexer)\n",
      "      400    0.000    0.000    0.001    0.000 inference.py:220(is_array_like)\n",
      "      400    0.001    0.000    0.001    0.000 inference.py:299(is_dict_like)\n",
      "     1200    0.000    0.000    0.001    0.000 inference.py:325(<genexpr>)\n",
      "     4400    0.001    0.000    0.002    0.000 inference.py:358(is_hashable)\n",
      "      400    0.000    0.000    0.000    0.000 inference.py:96(is_iterator)\n",
      "     2400    0.001    0.000    0.001    0.000 inspect.py:158(isfunction)\n",
      "     1200    0.003    0.000    0.007    0.000 inspect.py:1800(_signature_bound_method)\n",
      "     1200    0.007    0.000    0.017    0.000 inspect.py:2112(_signature_from_function)\n",
      "2400/1200    0.006    0.000    0.033    0.000 inspect.py:2206(_signature_from_callable)\n",
      "     2000    0.003    0.000    0.005    0.000 inspect.py:2477(__init__)\n",
      "     3600    0.000    0.000    0.000    0.000 inspect.py:2527(name)\n",
      "     1600    0.000    0.000    0.000    0.000 inspect.py:2531(default)\n",
      "     6400    0.001    0.000    0.001    0.000 inspect.py:2539(kind)\n",
      "     2400    0.005    0.000    0.006    0.000 inspect.py:2760(__init__)\n",
      "     3200    0.001    0.000    0.001    0.000 inspect.py:2809(<genexpr>)\n",
      "     1200    0.001    0.000    0.034    0.000 inspect.py:2839(from_callable)\n",
      "     6000    0.001    0.000    0.001    0.000 inspect.py:2845(parameters)\n",
      "     1200    0.001    0.000    0.003    0.000 inspect.py:2853(replace)\n",
      "     1200    0.001    0.000    0.035    0.000 inspect.py:3091(signature)\n",
      "     1200    0.001    0.000    0.002    0.000 inspect.py:493(unwrap)\n",
      "     1200    0.000    0.000    0.001    0.000 inspect.py:513(_is_wrapper)\n",
      "     1200    0.003    0.000    0.034    0.000 managers.py:1467(__init__)\n",
      "     3600    0.001    0.000    0.001    0.000 managers.py:1520(_block)\n",
      "      400    0.001    0.000    0.049    0.000 managers.py:1538(get_slice)\n",
      "      800    0.000    0.000    0.000    0.000 managers.py:1544(index)\n",
      "      800    0.000    0.000    0.001    0.000 managers.py:1548(dtype)\n",
      "      400    0.000    0.000    0.000    0.000 managers.py:1562(external_values)\n",
      "      800    0.001    0.000    0.002    0.000 managers.py:1568(get_values)\n",
      "      400    0.000    0.000    0.000    0.000 managers.py:1572(_can_hold_na)\n",
      "      400    0.001    0.000    0.011    0.000 missing.py:132(_isna_new)\n",
      "      400    0.002    0.000    0.008    0.000 missing.py:225(_isna_ndarraylike)\n",
      "      400    0.001    0.000    0.013    0.000 missing.py:307(notna)\n",
      "      400    0.000    0.000    0.011    0.000 missing.py:49(isna)\n",
      "      400    0.001    0.000    0.145    0.000 missing.py:586(remove_na_arraylike)\n",
      "      400    0.000    0.000    0.000    0.000 multiarray.py:1043(copyto)\n",
      "      200    0.008    0.000    1.316    0.007 newphysics.py:110(init_distributions)\n",
      "      200    0.004    0.000    0.410    0.002 newphysics.py:118(<listcomp>)\n",
      "      200    0.004    0.000    0.400    0.002 newphysics.py:119(<listcomp>)\n",
      "      100    0.000    0.000    0.659    0.007 newphysics.py:127(clone)\n",
      "      100    0.000    0.000    0.657    0.007 newphysics.py:130(set_mu)\n",
      "      100    0.001    0.000    0.166    0.002 newphysics.py:144(log_prob)\n",
      "     2100    0.146    0.000    0.160    0.000 newphysics.py:83(<lambda>)\n",
      "      200    0.001    0.000    0.001    0.000 newphysics.py:85(get_sgbg_probs)\n",
      "      100    0.000    0.000    0.659    0.007 newphysics.py:96(__init__)\n",
      "      400    0.001    0.000    0.023    0.000 numeric.py:107(_shallow_copy)\n",
      "     1200    0.000    0.000    0.000    0.000 numeric.py:155(is_all_dates)\n",
      "      400    0.001    0.000    0.002    0.000 numeric.py:261(_convert_scalar_indexer)\n",
      "      400    0.001    0.000    0.003    0.000 numeric.py:268(full)\n",
      "      400    0.001    0.000    0.004    0.000 numeric.py:53(__new__)\n",
      "      800    0.000    0.000    0.000    0.000 numeric.py:83(_validate_dtype)\n",
      "      800    0.000    0.000    0.001    0.000 numerictypes.py:286(issubclass_)\n",
      "      400    0.001    0.000    0.001    0.000 numerictypes.py:360(issubdtype)\n",
      "    16800    0.062    0.000    0.086    0.000 numerictypes.py:545(_can_coerce_all)\n",
      "   117600    0.016    0.000    0.016    0.000 numerictypes.py:554(<listcomp>)\n",
      "     8400    0.011    0.000    0.103    0.000 numerictypes.py:569(find_common_type)\n",
      "     8400    0.005    0.000    0.005    0.000 numerictypes.py:621(<listcomp>)\n",
      "     8400    0.001    0.000    0.001    0.000 numerictypes.py:622(<listcomp>)\n",
      "      800    0.001    0.000    0.002    0.000 numpy_.py:138(__init__)\n",
      "      400    0.000    0.000    0.000    0.000 numpy_.py:176(dtype)\n",
      "      400    0.000    0.000    0.001    0.000 numpy_.py:183(__array__)\n",
      "      400    0.000    0.000    0.001    0.000 numpy_.py:417(to_numpy)\n",
      "      800    0.001    0.000    0.001    0.000 numpy_.py:42(__init__)\n",
      "      400    0.000    0.000    0.000    0.000 numpy_.py:92(kind)\n",
      "      400    0.001    0.000    0.002    0.000 range.py:131(_simple_new)\n",
      "     1200    0.001    0.000    0.003    0.000 range.py:155(_data)\n",
      "      400    0.001    0.000    0.002    0.000 range.py:170(_int64index)\n",
      "      400    0.000    0.000    0.000    0.000 range.py:210(start)\n",
      "      400    0.000    0.000    0.000    0.000 range.py:233(stop)\n",
      "      400    0.000    0.000    0.000    0.000 range.py:256(step)\n",
      "      400    0.000    0.000    0.000    0.000 range.py:316(dtype)\n",
      "      400    0.001    0.000    0.026    0.000 range.py:387(_shallow_copy)\n",
      "     3200    0.001    0.000    0.001    0.000 range.py:675(__len__)\n",
      "      400    0.001    0.000    0.036    0.000 range.py:685(__getitem__)\n",
      "      400    0.002    0.000    0.006    0.000 range.py:83(__new__)\n",
      "     1200    0.008    0.000    0.093    0.000 series.py:183(__init__)\n",
      "      400    0.002    0.000    0.052    0.000 series.py:2292(diff)\n",
      "      800    0.000    0.000    0.000    0.000 series.py:359(_constructor)\n",
      "      400    0.000    0.000    0.001    0.000 series.py:370(_can_hold_na)\n",
      "     1200    0.001    0.000    0.002    0.000 series.py:376(_set_axis)\n",
      "     1200    0.000    0.000    0.000    0.000 series.py:403(_set_subtyp)\n",
      "      800    0.000    0.000    0.001    0.000 series.py:414(dtype)\n",
      "     2000    0.002    0.000    0.003    0.000 series.py:428(name)\n",
      "     2000    0.001    0.000    0.002    0.000 series.py:432(name)\n",
      "      400    0.000    0.000    0.001    0.000 series.py:438(values)\n",
      "      400    0.001    0.000    0.148    0.000 series.py:4416(dropna)\n",
      "      800    0.001    0.000    0.004    0.000 series.py:515(array)\n",
      "      800    0.000    0.000    0.002    0.000 series.py:520(_internal_get_values)\n",
      "      400    0.002    0.000    0.128    0.000 series.py:868(__getitem__)\n",
      "      400    0.001    0.000    0.061    0.000 series.py:912(_get_with)\n",
      "      400    0.001    0.000    0.057    0.000 series.py:982(_get_values)\n",
      "     7800    0.001    0.000    0.001    0.000 shape_base.py:20(_atleast_1d_dispatcher)\n",
      "     7800    0.012    0.000    0.030    0.000 shape_base.py:24(atleast_1d)\n",
      "     2400    0.001    0.000    0.001    0.000 {built-in method __new__ of type object at 0x5653418cbac0}\n",
      "     8000    0.002    0.000    0.002    0.000 {built-in method _abc._abc_instancecheck}\n",
      "      400    0.000    0.000    0.000    0.000 {built-in method _thread.get_ident}\n",
      "      800    0.000    0.000    0.001    0.000 {built-in method builtins.all}\n",
      "      100    0.000    0.000    0.000    0.000 {built-in method builtins.any}\n",
      "     2800    0.000    0.000    0.000    0.000 {built-in method builtins.callable}\n",
      "    401/1    0.033    0.000    1.484    1.484 {built-in method builtins.exec}\n",
      "    86000    0.009    0.000    0.011    0.000 {built-in method builtins.getattr}\n",
      "     8000    0.001    0.000    0.001    0.000 {built-in method builtins.hasattr}\n",
      "     4400    0.001    0.000    0.001    0.000 {built-in method builtins.hash}\n",
      "     1600    0.000    0.000    0.000    0.000 {built-in method builtins.id}\n",
      "   149100    0.024    0.000    0.036    0.000 {built-in method builtins.isinstance}\n",
      "    20000    0.002    0.000    0.002    0.000 {built-in method builtins.issubclass}\n",
      "279200/275600    0.018    0.000    0.019    0.000 {built-in method builtins.len}\n",
      "      400    0.001    0.000    0.001    0.000 {built-in method builtins.locals}\n",
      "      400    0.000    0.000    0.000    0.000 {built-in method builtins.max}\n",
      "    38800    0.006    0.000    0.006    0.000 {built-in method builtins.min}\n",
      "     1200    0.000    0.000    0.000    0.000 {built-in method builtins.setattr}\n",
      "      400    0.001    0.000    0.001    0.000 {built-in method numpy.arange}\n",
      "69400/69000    0.046    0.000    0.046    0.000 {built-in method numpy.array}\n",
      "    24600    0.029    0.000    0.029    0.000 {built-in method numpy.core._multiarray_umath._insert}\n",
      "91200/60000    0.060    0.000    0.315    0.000 {built-in method numpy.core._multiarray_umath.implement_array_function}\n",
      "     1200    0.002    0.000    0.002    0.000 {built-in method numpy.empty}\n",
      "      100    0.000    0.000    0.000    0.000 {built-in method numpy.frompyfunc}\n",
      "     8400    0.005    0.000    0.005    0.000 {built-in method numpy.zeros}\n",
      "     1200    0.000    0.000    0.000    0.000 {built-in method sys.getrecursionlimit}\n",
      "      400    0.000    0.000    0.000    0.000 {method 'add' of 'set' objects}\n",
      "     8400    0.011    0.000    0.039    0.000 {method 'any' of 'numpy.generic' objects}\n",
      "   204200    0.011    0.000    0.011    0.000 {method 'append' of 'list' objects}\n",
      "     1200    0.001    0.000    0.001    0.000 {method 'copy' of 'dict' objects}\n",
      "        1    0.000    0.000    0.000    0.000 {method 'disable' of '_lsprof.Profiler' objects}\n",
      "      401    0.000    0.000    0.000    0.000 {method 'discard' of 'set' objects}\n",
      "    25600    0.013    0.000    0.013    0.000 {method 'expandtabs' of 'str' objects}\n",
      "      400    0.000    0.000    0.000    0.000 {method 'format' of 'str' objects}\n",
      "     4000    0.001    0.000    0.001    0.000 {method 'get' of 'dict' objects}\n",
      "      400    0.003    0.000    0.034    0.000 {method 'get_value' of 'pandas._libs.index.IndexEngine' objects}\n",
      "     2000    0.000    0.000    0.000    0.000 {method 'isidentifier' of 'str' objects}\n",
      "    11800    0.002    0.000    0.002    0.000 {method 'items' of 'dict' objects}\n",
      "    22100    0.006    0.000    0.006    0.000 {method 'join' of 'str' objects}\n",
      "    52800    0.004    0.000    0.004    0.000 {method 'lstrip' of 'str' objects}\n",
      "     7800    0.004    0.000    0.004    0.000 {method 'nonzero' of 'numpy.ndarray' objects}\n",
      "    15600    0.008    0.000    0.008    0.000 {method 'ravel' of 'numpy.ndarray' objects}\n",
      "    10600    0.032    0.000    0.032    0.000 {method 'reduce' of 'numpy.ufunc' objects}\n",
      "     2400    0.011    0.000    0.011    0.000 {method 'replace' of 'str' objects}\n",
      "     7800    0.011    0.000    0.011    0.000 {method 'reshape' of 'numpy.ndarray' objects}\n",
      "      800    0.000    0.000    0.000    0.000 {method 'rstrip' of 'str' objects}\n",
      "      400    0.000    0.000    0.000    0.000 {method 'setdefault' of 'dict' objects}\n",
      "    25600    0.019    0.000    0.019    0.000 {method 'splitlines' of 'str' objects}\n",
      "     7800    0.010    0.000    0.010    0.000 {method 'take' of 'numpy.ndarray' objects}\n",
      "      800    0.000    0.000    0.000    0.000 {method 'update' of 'dict' objects}\n",
      "     6000    0.001    0.000    0.001    0.000 {method 'values' of 'mappingproxy' objects}\n",
      "     1200    0.001    0.000    0.001    0.000 {method 'view' of 'numpy.ndarray' objects}\n",
      "      400    0.002    0.000    0.003    0.000 {pandas._libs.lib.infer_dtype}\n",
      "      400    0.000    0.000    0.000    0.000 {pandas._libs.lib.is_bool}\n",
      "      800    0.000    0.000    0.000    0.000 {pandas._libs.lib.is_float}\n",
      "      800    0.000    0.000    0.000    0.000 {pandas._libs.lib.is_integer}\n",
      "     2400    0.002    0.000    0.003    0.000 {pandas._libs.lib.is_list_like}\n",
      "     3200    0.005    0.000    0.007    0.000 {pandas._libs.lib.is_scalar}\n",
      "      400    0.006    0.000    0.009    0.000 {pandas._libs.lib.maybe_convert_objects}\n",
      "     1600    0.001    0.000    0.004    0.000 {pandas._libs.lib.values_from_object}\n",
      "\n",
      "\n"
     ]
    }
   ],
   "source": [
    "import cProfile\n",
    "import re\n",
    "cProfile.run('[self.clone().set_mu(i).log_prob(h) for i in r_mu ]')"
   ]
  },
  {
   "cell_type": "code",
   "execution_count": null,
   "metadata": {},
   "outputs": [],
   "source": []
  },
  {
   "cell_type": "code",
   "execution_count": null,
   "metadata": {},
   "outputs": [],
   "source": []
  },
  {
   "cell_type": "code",
   "execution_count": 200,
   "metadata": {},
   "outputs": [
    {
     "data": {
      "text/plain": [
       "<matplotlib.lines.Line2D at 0x7fc6a6742160>"
      ]
     },
     "execution_count": 200,
     "metadata": {},
     "output_type": "execute_result"
    },
    {
     "data": {
      "image/png": "[encoded data removed]",
      "text/plain": [
       "<Figure size 432x288 with 1 Axes>"
      ]
     },
     "metadata": {
      "needs_background": "light"
     },
     "output_type": "display_data"
    }
   ],
   "source": [
    "plt.plot(r_mu, lp)\n",
    "plt.axvline(self.mu, color=\"black\")\n",
    "plt.axvline(r_mu[np.argmax(lp)], color=\"black\", ls=\"--\")"
   ]
  },
  {
   "cell_type": "code",
   "execution_count": 150,
   "metadata": {},
   "outputs": [],
   "source": [
    "def flog(mu):\n",
    "    k = self.clone().set_mu(mu)\n",
    "    return (h*np.log(mu*k.si+k.bi)-(mu*k.si+k.bi)).sum()"
   ]
  },
  {
   "cell_type": "code",
   "execution_count": 151,
   "metadata": {},
   "outputs": [
    {
     "data": {
      "image/png": "[encoded data removed]",
      "text/plain": [
       "<Figure size 432x288 with 1 Axes>"
      ]
     },
     "metadata": {
      "needs_background": "light"
     },
     "output_type": "display_data"
    }
   ],
   "source": [
    "#f = lambda mu: sum([n*np.log(mu*s+b)-(mu*s+b) for n,s,b in zip(h, self.si, self.bi)])\n",
    "#logL = sum([n*sy.log(smu*s*b+1e-100) - smu*s for n,s,b in zip(h, self.si, self.bi)])\n",
    "lp = [flog(i) for i in r_mu ]\n",
    "plt.plot(r_mu, lp)\n",
    "plt.axvline(self.mu, color=\"black\")\n",
    "plt.axvline(r_mu[np.argmax(lp)], color=\"black\", ls=\"--\")\n",
    "plt.show()"
   ]
  },
  {
   "cell_type": "code",
   "execution_count": 139,
   "metadata": {},
   "outputs": [
    {
     "data": {
      "text/plain": [
       "array([2, 2, 3, 3, 2, 3, 1, 2, 2, 2, 2, 2, 1, 1, 1, 2, 2, 3, 3, 1])"
      ]
     },
     "execution_count": 139,
     "metadata": {},
     "output_type": "execute_result"
    }
   ],
   "source": [
    "h = np.random.randint(3,size=h.shape)+1\n",
    "h"
   ]
  },
  {
   "cell_type": "code",
   "execution_count": 140,
   "metadata": {},
   "outputs": [
    {
     "data": {
      "text/plain": [
       "-10859.288961133127"
      ]
     },
     "execution_count": 140,
     "metadata": {},
     "output_type": "execute_result"
    }
   ],
   "source": [
    "mu = 1\n",
    "flog(mu)"
   ]
  },
  {
   "cell_type": "code",
   "execution_count": 146,
   "metadata": {},
   "outputs": [
    {
     "data": {
      "text/plain": [
       "2.203044214559126"
      ]
     },
     "execution_count": 146,
     "metadata": {},
     "output_type": "execute_result"
    }
   ],
   "source": [
    "mu = 1\n",
    "k = self.clone().set_mu(mu)\n",
    "k.si = np.random.randint(3,size=h.shape)+1\n",
    "k.bi = np.random.randint(3,size=h.shape)+1\n",
    "\n",
    "np.log((((mu*k.si+k.bi)**h)*np.exp(-(mu*k.si+k.bi))).sum())"
   ]
  },
  {
   "cell_type": "code",
   "execution_count": null,
   "metadata": {},
   "outputs": [],
   "source": []
  },
  {
   "cell_type": "code",
   "execution_count": 143,
   "metadata": {},
   "outputs": [],
   "source": [
    "def f(mu):\n",
    "    k = self.clone().set_mu(mu)\n",
    "    return np.product([(mu*s+b)**n*np.exp(-(mu*s+b)) for n,s,b in zip(h, k.si, k.bi)])"
   ]
  },
  {
   "cell_type": "code",
   "execution_count": 148,
   "metadata": {},
   "outputs": [
    {
     "name": "stdout",
     "output_type": "stream",
     "text": [
      "-27.001347190331284\n",
      "-27.00134719033128\n"
     ]
    }
   ],
   "source": [
    "print (np.log(np.product((((mu*k.si+k.bi)**h)*np.exp(-(mu*k.si+k.bi))))))\n",
    "print ((h*np.log(mu*k.si+k.bi)-(mu*k.si+k.bi)).sum())"
   ]
  },
  {
   "cell_type": "code",
   "execution_count": 149,
   "metadata": {},
   "outputs": [
    {
     "name": "stdout",
     "output_type": "stream",
     "text": [
      "-80.0\n",
      "-80\n"
     ]
    }
   ],
   "source": [
    "print (np.log(np.product(np.exp(-(mu*k.si+k.bi)))))\n",
    "print ((-(mu*k.si+k.bi)).sum())"
   ]
  },
  {
   "cell_type": "code",
   "execution_count": 144,
   "metadata": {},
   "outputs": [
    {
     "data": {
      "text/plain": [
       "array([0.00000000e+000, 0.00000000e+000, 0.00000000e+000, 1.95320171e-210,\n",
       "       0.00000000e+000, 0.00000000e+000, 1.61067861e-047, 4.15940802e-029,\n",
       "       6.11043977e-018, 3.62430867e-011, 4.64889737e-007, 1.44229332e-004,\n",
       "       4.68110348e-003, 3.86362335e-002, 1.38985346e-001, 3.02123446e-001,\n",
       "       4.83855765e-001, 6.43829006e-001, 7.65620350e-001, 6.62532898e-001])"
      ]
     },
     "execution_count": 144,
     "metadata": {},
     "output_type": "execute_result"
    }
   ],
   "source": [
    "np.exp(-(mu*k.si+k.bi))"
   ]
  },
  {
   "cell_type": "code",
   "execution_count": 98,
   "metadata": {},
   "outputs": [
    {
     "name": "stderr",
     "output_type": "stream",
     "text": [
      "<ipython-input-97-fa543ef13696>:3: RuntimeWarning: overflow encountered in double_scalars\n",
      "  return np.product([(mu*s+b)**n*np.exp(-(mu*s+b)) for n,s,b in zip(h, k.si, k.bi)])\n",
      "<ipython-input-97-fa543ef13696>:3: RuntimeWarning: invalid value encountered in double_scalars\n",
      "  return np.product([(mu*s+b)**n*np.exp(-(mu*s+b)) for n,s,b in zip(h, k.si, k.bi)])\n"
     ]
    },
    {
     "data": {
      "text/plain": [
       "nan"
      ]
     },
     "execution_count": 98,
     "metadata": {},
     "output_type": "execute_result"
    }
   ],
   "source": [
    "f(1)"
   ]
  },
  {
   "cell_type": "code",
   "execution_count": null,
   "metadata": {},
   "outputs": [],
   "source": []
  },
  {
   "cell_type": "code",
   "execution_count": 37,
   "metadata": {},
   "outputs": [
    {
     "data": {
      "image/png": "[encoded data removed]",
      "text/plain": [
       "<Figure size 432x288 with 1 Axes>"
      ]
     },
     "metadata": {
      "needs_background": "light"
     },
     "output_type": "display_data"
    }
   ],
   "source": [
    "logL = sum([n*sy.log(smu*s*b+1e-100) - smu*s for n,s,b in zip(h, self.si, self.bi)])\n",
    "\n",
    "f = sy.lambdify(smu, logL, \"numpy\" )\n",
    "r = np.linspace(.1,2, 100)\n",
    "plt.plot(r, f(r))\n",
    "#plt.axhline(0, color=\"red\")\n",
    "plt.show()"
   ]
  },
  {
   "cell_type": "code",
   "execution_count": 24,
   "metadata": {},
   "outputs": [],
   "source": [
    "f = sy.lambdify(smu, logLd, \"numpy\" )"
   ]
  },
  {
   "cell_type": "code",
   "execution_count": 27,
   "metadata": {},
   "outputs": [
    {
     "data": {
      "text/plain": [
       "<matplotlib.lines.Line2D at 0x7fc6b0ed6940>"
      ]
     },
     "execution_count": 27,
     "metadata": {},
     "output_type": "execute_result"
    },
    {
     "data": {
      "image/png": "[encoded data removed]",
      "text/plain": [
       "<Figure size 432x288 with 1 Axes>"
      ]
     },
     "metadata": {
      "needs_background": "light"
     },
     "output_type": "display_data"
    }
   ],
   "source": [
    "r = np.linspace(.1,2, 100)\n",
    "plt.plot(r, f(r))\n",
    "plt.axhline(0, color=\"red\")"
   ]
  },
  {
   "cell_type": "code",
   "execution_count": null,
   "metadata": {},
   "outputs": [],
   "source": []
  },
  {
   "cell_type": "code",
   "execution_count": 4,
   "metadata": {},
   "outputs": [],
   "source": [
    "mu, s1, s2, b1, b2, n1, n2 = sy.symbols(r\"\\mu s_1 s_2 b_1 b_2 n_1 n_2\")"
   ]
  },
  {
   "cell_type": "code",
   "execution_count": 8,
   "metadata": {},
   "outputs": [
    {
     "data": {
      "text/latex": [
       "$\\displaystyle - \\mu s_{1} - \\mu s_{2} + n_{1} \\log{\\left(\\mu s_{1} + b_{1} \\right)} + n_{2} \\log{\\left(\\mu s_{2} + b_{2} \\right)}$"
      ],
      "text/plain": [
       "-\\mu*s_1 - \\mu*s_2 + n_1*log(\\mu*s_1 + b_1) + n_2*log(\\mu*s_2 + b_2)"
      ]
     },
     "execution_count": 8,
     "metadata": {},
     "output_type": "execute_result"
    }
   ],
   "source": [
    "logL = n1*sy.log(mu*s1+b1) -mu*s1 + n2*sy.log(mu*s2+b2) -mu*s2\n",
    "logL"
   ]
  },
  {
   "cell_type": "code",
   "execution_count": 9,
   "metadata": {},
   "outputs": [
    {
     "data": {
      "text/latex": [
       "$\\displaystyle \\frac{n_{1} s_{1}}{\\mu s_{1} + b_{1}} + \\frac{n_{2} s_{2}}{\\mu s_{2} + b_{2}} - s_{1} - s_{2}$"
      ],
      "text/plain": [
       "n_1*s_1/(\\mu*s_1 + b_1) + n_2*s_2/(\\mu*s_2 + b_2) - s_1 - s_2"
      ]
     },
     "execution_count": 9,
     "metadata": {},
     "output_type": "execute_result"
    }
   ],
   "source": [
    "logL.diff(mu)"
   ]
  },
  {
   "cell_type": "code",
   "execution_count": 15,
   "metadata": {},
   "outputs": [
    {
     "data": {
      "text/latex": [
       "$\\displaystyle \\log{\\left(\\left(\\mu s_{1} + b_{1}\\right)^{n_{1}} \\left(\\mu s_{2} + b_{2}\\right)^{n_{2}} e^{\\mu s_{1} + b_{1}} e^{\\mu s_{2} + b_{2}} \\right)}$"
      ],
      "text/plain": [
       "log((\\mu*s_1 + b_1)**n_1*(\\mu*s_2 + b_2)**n_2*exp(\\mu*s_1 + b_1)*exp(\\mu*s_2 + b_2))"
      ]
     },
     "execution_count": 15,
     "metadata": {},
     "output_type": "execute_result"
    }
   ],
   "source": [
    "logL = sy.log( ((mu*s1+b1)**n1)*sy.exp(mu*s1+b1)*((mu*s2+b2)**n2)*sy.exp(mu*s2+b2))\n",
    "logL"
   ]
  },
  {
   "cell_type": "code",
   "execution_count": 17,
   "metadata": {},
   "outputs": [
    {
     "data": {
      "text/latex": [
       "$\\displaystyle \\frac{\\mu^{2} s_{1}^{2} s_{2} + \\mu^{2} s_{1} s_{2}^{2} + \\mu b_{1} s_{1} s_{2} + \\mu b_{1} s_{2}^{2} + \\mu b_{2} s_{1}^{2} + \\mu b_{2} s_{1} s_{2} + \\mu n_{1} s_{1} s_{2} + \\mu n_{2} s_{1} s_{2} + b_{1} b_{2} s_{1} + b_{1} b_{2} s_{2} + b_{1} n_{2} s_{2} + b_{2} n_{1} s_{1}}{\\mu^{2} s_{1} s_{2} + \\mu b_{1} s_{2} + \\mu b_{2} s_{1} + b_{1} b_{2}}$"
      ],
      "text/plain": [
       "(\\mu**2*s_1**2*s_2 + \\mu**2*s_1*s_2**2 + \\mu*b_1*s_1*s_2 + \\mu*b_1*s_2**2 + \\mu*b_2*s_1**2 + \\mu*b_2*s_1*s_2 + \\mu*n_1*s_1*s_2 + \\mu*n_2*s_1*s_2 + b_1*b_2*s_1 + b_1*b_2*s_2 + b_1*n_2*s_2 + b_2*n_1*s_1)/(\\mu**2*s_1*s_2 + \\mu*b_1*s_2 + \\mu*b_2*s_1 + b_1*b_2)"
      ]
     },
     "execution_count": 17,
     "metadata": {},
     "output_type": "execute_result"
    }
   ],
   "source": [
    "logL.diff(mu).simplify()"
   ]
  },
  {
   "cell_type": "code",
   "execution_count": null,
   "metadata": {},
   "outputs": [],
   "source": []
  }
 ],
 "metadata": {
  "kernelspec": {
   "display_name": "p38",
   "language": "python",
   "name": "p38"
  },
  "language_info": {
   "codemirror_mode": {
    "name": "ipython",
    "version": 3
   },
   "file_extension": ".py",
   "mimetype": "text/x-python",
   "name": "python",
   "nbconvert_exporter": "python",
   "pygments_lexer": "ipython3",
   "version": "3.8.3"
  }
 },
 "nbformat": 4,
 "nbformat_minor": 4
}
