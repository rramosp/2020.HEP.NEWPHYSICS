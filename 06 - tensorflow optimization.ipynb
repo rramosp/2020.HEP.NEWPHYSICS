{
 "cells": [
  {
   "cell_type": "code",
   "execution_count": 1,
   "metadata": {},
   "outputs": [],
   "source": [
    "import numpy as np\n",
    "import matplotlib.pyplot as plt\n",
    "import tensorflow as tf\n",
    "from progressbar import progressbar as pbar\n",
    "from scipy import stats\n",
    "from local.lib import histos2d as h2\n",
    "%matplotlib inline"
   ]
  },
  {
   "cell_type": "markdown",
   "metadata": {},
   "source": [
    "## `tensorflow` optimizer for linear regression"
   ]
  },
  {
   "cell_type": "code",
   "execution_count": 2,
   "metadata": {},
   "outputs": [
    {
     "data": {
      "text/plain": [
       "<matplotlib.collections.PathCollection at 0x7f7af04185e0>"
      ]
     },
     "execution_count": 2,
     "metadata": {},
     "output_type": "execute_result"
    },
    {
     "data": {
      "image/png": "[encoded data removed]",
      "text/plain": [
       "<Figure size 432x288 with 1 Axes>"
      ]
     },
     "metadata": {
      "needs_background": "light"
     },
     "output_type": "display_data"
    }
   ],
   "source": [
    "a,b = -4,2\n",
    "x = np.random.random(size=20)\n",
    "y = x*a+b+np.random.normal(size=20)*.1\n",
    "plt.scatter(x,y)"
   ]
  },
  {
   "cell_type": "code",
   "execution_count": 3,
   "metadata": {},
   "outputs": [],
   "source": [
    "pa = tf.Variable(initial_value=[np.random.random()], name=\"a\", dtype=tf.float64)\n",
    "pb = tf.Variable(initial_value=[np.random.random()], name=\"b\", dtype=tf.float64)"
   ]
  },
  {
   "cell_type": "code",
   "execution_count": 4,
   "metadata": {},
   "outputs": [],
   "source": [
    "def loss(pa,pb):\n",
    "    tf.reduce_mean((x*pa+b-y)**2)"
   ]
  },
  {
   "cell_type": "code",
   "execution_count": 5,
   "metadata": {},
   "outputs": [],
   "source": [
    "optimizer = tf.optimizers.Adam()\n",
    "\n",
    "@tf.function\n",
    "def train_step():\n",
    "    with tf.GradientTape() as tape:\n",
    "        loss_value = tf.reduce_mean((x*pa+pb-y)**2)\n",
    "    grads = tape.gradient(loss_value, [pa, pb])\n",
    "\n",
    "    optimizer.apply_gradients(zip(grads, [pa, pb]))\n",
    "    return loss_value\n",
    "\n",
    "h = []\n",
    "for epoch in range(10000):\n",
    "    loss_value = train_step()\n",
    "    h.append(loss_value.numpy())"
   ]
  },
  {
   "cell_type": "code",
   "execution_count": 6,
   "metadata": {},
   "outputs": [
    {
     "data": {
      "text/plain": [
       "<tf.Tensor: shape=(), dtype=float64, numpy=0.008196037827477728>"
      ]
     },
     "execution_count": 6,
     "metadata": {},
     "output_type": "execute_result"
    }
   ],
   "source": [
    "loss_value"
   ]
  },
  {
   "cell_type": "code",
   "execution_count": 7,
   "metadata": {},
   "outputs": [
    {
     "data": {
      "text/plain": [
       "[<matplotlib.lines.Line2D at 0x7f7af000c760>]"
      ]
     },
     "execution_count": 7,
     "metadata": {},
     "output_type": "execute_result"
    },
    {
     "data": {
      "image/png": "[encoded data removed]",
      "text/plain": [
       "<Figure size 432x288 with 1 Axes>"
      ]
     },
     "metadata": {
      "needs_background": "light"
     },
     "output_type": "display_data"
    }
   ],
   "source": [
    "plt.plot(h)"
   ]
  },
  {
   "cell_type": "code",
   "execution_count": 8,
   "metadata": {},
   "outputs": [
    {
     "data": {
      "text/plain": [
       "(<tf.Variable 'a:0' shape=(1,) dtype=float64, numpy=array([-3.83933696])>,\n",
       " <tf.Variable 'b:0' shape=(1,) dtype=float64, numpy=array([1.92197143])>)"
      ]
     },
     "execution_count": 8,
     "metadata": {},
     "output_type": "execute_result"
    }
   ],
   "source": [
    "pa, pb"
   ]
  },
  {
   "cell_type": "markdown",
   "metadata": {},
   "source": [
    "## `tensorflow` optimizer for MLE mixture of gaussians"
   ]
  },
  {
   "cell_type": "code",
   "execution_count": 9,
   "metadata": {},
   "outputs": [],
   "source": [
    "gaus_pdf = lambda x, mu, sigma: np.exp(-0.5*((x-mu)/sigma)**2)/(sigma*np.sqrt(2*np.pi))"
   ]
  },
  {
   "cell_type": "code",
   "execution_count": 10,
   "metadata": {},
   "outputs": [
    {
     "data": {
      "text/plain": [
       "(-0.30861438609904646,\n",
       " 0.20520598542532942,\n",
       " 0.1225717590036065,\n",
       " 0.016476459920938446,\n",
       " 0.4147336116924617)"
      ]
     },
     "execution_count": 10,
     "metadata": {},
     "output_type": "execute_result"
    }
   ],
   "source": [
    "def get_random_params():\n",
    "    m1,m2 = np.random.random(size=2)*2-1\n",
    "    s1,s2 = np.random.random(size=2)*.2\n",
    "\n",
    "    p1 = np.random.random()*.2+.3\n",
    "    return np.r_[m1,m2,s1,s2,p1]\n",
    "\n",
    "m1,m2,s1,s2,p1 = get_random_params()\n",
    "    \n",
    "n = 10000\n",
    "n1 = int(n*p1)\n",
    "n2 = n-n1\n",
    "\n",
    "x1 = np.random.normal(loc=m1, scale=s1, size=n1)\n",
    "x2 = np.random.normal(loc=m2, scale=s2, size=n2)\n",
    "\n",
    "x = np.random.permutation(np.concatenate((x1,x2)))\n",
    "m1,m2,s1,s2,p1"
   ]
  },
  {
   "cell_type": "code",
   "execution_count": 11,
   "metadata": {},
   "outputs": [],
   "source": [
    "mix_pdf = lambda x, m1,m2,s1,s2,p1: p1*gaus_pdf(x,m1,s1)+(1-p1)*gaus_pdf(x,m2,s2)\n",
    "mix_logpdf = lambda x, m1,m2,s1,s2,p1: np.log(mix_pdf(x,m1,m2,s1,s2,p1)+np.float64(1e-100))"
   ]
  },
  {
   "cell_type": "code",
   "execution_count": 12,
   "metadata": {},
   "outputs": [],
   "source": [
    "logprob = np.r_[[np.mean(mix_logpdf(x,*get_random_params())) for _ in range(1000)]]\n",
    "logprob = logprob[(logprob>=np.percentile(logprob, 10))]"
   ]
  },
  {
   "cell_type": "code",
   "execution_count": 13,
   "metadata": {},
   "outputs": [
    {
     "data": {
      "text/plain": [
       "Text(0.5, 1.0, 'mean logprob for 900 random params, showing top 90%')"
      ]
     },
     "execution_count": 13,
     "metadata": {},
     "output_type": "execute_result"
    },
    {
     "data": {
      "image/png": "[encoded data removed]",
      "text/plain": [
       "<Figure size 1080x216 with 2 Axes>"
      ]
     },
     "metadata": {
      "needs_background": "light"
     },
     "output_type": "display_data"
    }
   ],
   "source": [
    "plt.figure(figsize=(15,3))\n",
    "plt.subplot(121)\n",
    "plt.hist(x, bins=30, alpha=.5, density=True);\n",
    "plt.axvline(m1, color=\"black\")\n",
    "plt.axvline(m2, color=\"black\")\n",
    "\n",
    "xr = np.linspace(np.min(x), np.max(x), 100)\n",
    "plt.plot(xr, mix_pdf(xr, m1,m2,s1,s2,p1), color=\"red\", label=\"analytical pdf\")\n",
    "plt.legend(); plt.grid();\n",
    "plt.title(\"$\\mu_1$=%.2f, $\\sigma_1$=%.2f :: $\\mu_2$=%.2f, $\\sigma_2$=%.2f :: $P_1$=%.2f\"%(m1,s1,m2,s2,p1))\n",
    "\n",
    "plt.subplot(122)\n",
    "plt.hist(logprob, bins=30, alpha=.5);\n",
    "plt.axvline(np.mean(mix_logpdf(x,m1,m2,s1,s2,p1)), color=\"black\", label=\"target params\")\n",
    "plt.grid(); plt.legend();\n",
    "plt.title(\"mean logprob for %d random params, showing top 90%s\"%(len(logprob), '%'))"
   ]
  },
  {
   "cell_type": "code",
   "execution_count": null,
   "metadata": {},
   "outputs": [],
   "source": []
  },
  {
   "cell_type": "code",
   "execution_count": 14,
   "metadata": {},
   "outputs": [
    {
     "name": "stdout",
     "output_type": "stream",
     "text": [
      "m1 -0.30861438609904646 [-1.31742141]\n",
      "m2 0.20520598542532942 [-4.124501]\n",
      "s1 0.1225717590036065 [3.64831478]\n",
      "s2 0.016476459920938446 [3.28146655]\n",
      "p1 0.4147336116924617 [-1.56796636]\n"
     ]
    }
   ],
   "source": [
    "rm1, rm2, rs1, rs2, rp1 = get_random_params()*5-4\n",
    "\n",
    "tm1 = tf.Variable(initial_value=[rm1], name=\"m1\", dtype=tf.float64)\n",
    "tm2 = tf.Variable(initial_value=[rm2], name=\"m2\", dtype=tf.float64)\n",
    "ts1 = tf.Variable(initial_value=[np.abs(rs1)], name=\"s1\", dtype=tf.float64)\n",
    "ts2 = tf.Variable(initial_value=[np.abs(rs2)], name=\"s2\", dtype=tf.float64)\n",
    "tp1 = tf.Variable(initial_value=[rp1], name=\"p1\", dtype=tf.float64)\n",
    "tfpi = tf.constant(np.pi, name=\"pi\", dtype=tf.float64)\n",
    "\n",
    "print (\"m1\", m1, tm1.numpy())\n",
    "print (\"m2\", m2, tm2.numpy())\n",
    "print (\"s1\", s1, ts1.numpy())\n",
    "print (\"s2\", s2, ts2.numpy())\n",
    "print (\"p1\", p1, tp1.numpy())"
   ]
  },
  {
   "cell_type": "code",
   "execution_count": null,
   "metadata": {},
   "outputs": [],
   "source": []
  },
  {
   "cell_type": "code",
   "execution_count": 15,
   "metadata": {},
   "outputs": [],
   "source": [
    "# optimizer params fixing p1\n",
    "# optimizer = tf.optimizers.Adam(learning_rate=0.01, beta_1=0.9, beta_2=0.999)\n",
    "\n",
    "# optimizer params for all params free\n",
    "optimizer = tf.optimizers.Adam(learning_rate=0.01, beta_1=0.9, beta_2=0.999)\n",
    "\n",
    "x = x.astype(np.float64)\n",
    "@tf.function\n",
    "def train_step(x):\n",
    "    \n",
    "    gaus_pdf = lambda x, mu, sigma: tf.math.exp(-0.5*((x-mu)/sigma)**2)\\\n",
    "                                    /(sigma*tf.sqrt(2*tfpi))    \n",
    "    \n",
    "    mix_pdf = lambda x, m1,m2,s1,s2,p1: tf.sigmoid(.1*p1)*gaus_pdf(x,m1,s1)+(1-tf.sigmoid(.1*p1))*gaus_pdf(x,m2,s2)\n",
    "    \n",
    "    mix_logpdf = lambda x, m1,m2,s1,s2,p1: tf.math.log(mix_pdf(x,m1,m2,s1,s2,p1)+1e-100)\n",
    "    \n",
    "    with tf.GradientTape() as tape:\n",
    "        loss_value = -tf.reduce_mean(mix_logpdf(x,tm1,tm2,ts1,ts2,tp1))\n",
    "    grads = tape.gradient(loss_value, [tm1, tm2, ts1, ts2, tp1])\n",
    "    optimizer.apply_gradients(zip(grads, [tm1, tm2, ts1, ts2, tp1]))\n",
    "    \n",
    "    \n",
    "    return loss_value"
   ]
  },
  {
   "cell_type": "code",
   "execution_count": 16,
   "metadata": {},
   "outputs": [],
   "source": [
    "h = []\n",
    "for epoch in range(5000):\n",
    "    loss_value = train_step(x)\n",
    "    h.append(loss_value.numpy())"
   ]
  },
  {
   "cell_type": "code",
   "execution_count": 17,
   "metadata": {},
   "outputs": [
    {
     "data": {
      "text/plain": [
       "Text(0.5, 1.0, 'nan')"
      ]
     },
     "execution_count": 17,
     "metadata": {},
     "output_type": "execute_result"
    },
    {
     "data": {
      "image/png": "[encoded data removed]",
      "text/plain": [
       "<Figure size 432x288 with 1 Axes>"
      ]
     },
     "metadata": {
      "needs_background": "light"
     },
     "output_type": "display_data"
    }
   ],
   "source": [
    "plt.plot(h)\n",
    "plt.title(str(h[-1]))"
   ]
  },
  {
   "cell_type": "code",
   "execution_count": 18,
   "metadata": {},
   "outputs": [
    {
     "name": "stdout",
     "output_type": "stream",
     "text": [
      "m1 -0.30861438609904646 [0.20546284]\n",
      "m2 0.20520598542532942 [-0.30817365]\n",
      "s1 0.1225717590036065 [-0.01665899]\n",
      "s2 0.016476459920938446 [-0.12458122]\n",
      "p1 0.4147336116924617 [0.58517448]\n"
     ]
    }
   ],
   "source": [
    "print (\"m1\", m1, tm1.numpy())\n",
    "print (\"m2\", m2, tm2.numpy())\n",
    "print (\"s1\", s1, ts1.numpy())\n",
    "print (\"s2\", s2, ts2.numpy())\n",
    "print (\"p1\", p1, tf.sigmoid(.1*tp1).numpy())\n"
   ]
  },
  {
   "cell_type": "code",
   "execution_count": 19,
   "metadata": {},
   "outputs": [],
   "source": [
    "tfpi = tf.constant(np.pi, name=\"pi\", dtype=tf.float64)\n",
    "gaus_pdf = lambda x, mu, sigma: tf.math.exp(-0.5*((x-mu)/sigma)**2)/(sigma*tf.sqrt(2*tfpi))    \n",
    "exp_pdf  = lambda x, t: t * tf.math.exp(-t*x)\n",
    "\n",
    "class MLE_GausMixture:\n",
    "    \n",
    "    def __init__(self):\n",
    "        self.params = self.get_random_params()\n",
    "        self.sf = .5 # sigmoid scaling factor\n",
    "    \n",
    "    def rvs(self, n):\n",
    "        m1,m2,s1,s2,p1 = self.params\n",
    "        \n",
    "        n1 = int(n*tf.sigmoid(self.sf*p1).numpy())\n",
    "        n2 = n-n1\n",
    "\n",
    "        x1 = np.random.normal(loc=m1, scale=s1, size=n1)\n",
    "        x2 = np.random.normal(loc=m2, scale=s2, size=n2)\n",
    "\n",
    "        x = np.random.permutation(np.concatenate((x1,x2)))\n",
    "        return x.astype(np.float64)\n",
    "    \n",
    "    def plot_sample(self, x):\n",
    "        \n",
    "        m1,m2,s1,s2,p1 = self.params        \n",
    "        \n",
    "        plt.hist(x, bins=30, alpha=.5, density=True);\n",
    "        plt.axvline(m1, color=\"black\")\n",
    "        plt.axvline(m2, color=\"black\")\n",
    "\n",
    "        xr = np.linspace(np.min(x), np.max(x), 100)\n",
    "        plt.plot(xr, np.exp(self.logprob(xr).numpy()), color=\"red\", label=\"analytical pdf\")\n",
    "        plt.legend(); plt.grid();\n",
    "        plt.title(\"$\\mu_1$=%.2f, $\\sigma_1$=%.2f :: $\\mu_2$=%.2f, $\\sigma_2$=%.2f\\n$\\sigma^{-1}(P_1)$=%.2f $P_1$=%.2f\"%\\\n",
    "                  (m1,s1,m2,s2,p1, tf.sigmoid(self.sf*p1).numpy()))\n",
    "    \n",
    "    def get_random_params(self):\n",
    "        m1,m2 = np.random.random(size=2)\n",
    "        s1,s2 = np.abs(np.random.random(size=2)*.2)\n",
    "\n",
    "        p1 = np.random.random()*6-3\n",
    "        \n",
    "        return np.r_[m1,m2,s1,s2,p1]\n",
    "\n",
    "    def logprob(self, x, params=None):\n",
    "            \n",
    "        params = self.params if params is None else params\n",
    "        m1, m2, s1, s2, p1 = params\n",
    "        \n",
    "        mix_pdf = lambda x, m1,m2,s1,s2,p1: tf.sigmoid(self.sf*p1)*gaus_pdf(x,m1,s1)\\\n",
    "                                            +(1-tf.sigmoid(self.sf*p1))*gaus_pdf(x,m2,s2)\n",
    "\n",
    "        mix_logpdf = lambda x, m1,m2,s1,s2,p1: tf.math.log(mix_pdf(x,m1,m2,s1,s2,p1)+1e-100)\n",
    "\n",
    "        r = mix_logpdf(x, *params)\n",
    "        return r\n",
    "    \n",
    "    def init_optimizer(self, **optimizer_params):\n",
    "        rm1, rm2, rs1, rs2, rp1 = self.get_random_params()*3\n",
    "        rp1 = 0\n",
    "        self.init_params=[rm1, rm2, rs1, rs2, rp1]\n",
    "        \n",
    "        self.tm1 = tf.Variable(initial_value=rm1, name=\"m1\", dtype=tf.float64)\n",
    "        self.tm2 = tf.Variable(initial_value=rm2, name=\"m2\", dtype=tf.float64)\n",
    "        self.ts1 = tf.Variable(initial_value=rs1, name=\"s1\", dtype=tf.float64)\n",
    "        self.ts2 = tf.Variable(initial_value=rs2, name=\"s2\", dtype=tf.float64)\n",
    "        self.tp1 = tf.Variable(initial_value=rp1, name=\"p1\", dtype=tf.float64)\n",
    "\n",
    "        self.tparams = [self.tm1, self.tm2, self.ts1, self.ts2, self.tp1]\n",
    "        \n",
    "        self.optimizer = tf.optimizers.Adam(**optimizer_params)\n",
    "\n",
    "        @tf.function\n",
    "        def train_step(x):\n",
    "            \n",
    "            loss = lambda x, params: -self.logprob(x,params)\n",
    "            \n",
    "            with tf.GradientTape() as tape:\n",
    "                loss_value = tf.reduce_mean(loss(x,self.tparams))\n",
    "\n",
    "            grads = tape.gradient(loss_value, self.tparams)\n",
    "            self.optimizer.apply_gradients(zip(grads, self.tparams))\n",
    "\n",
    "            return loss_value\n",
    "        \n",
    "        self.train_step = train_step\n",
    "        \n",
    "        self.history = []\n",
    "        \n",
    "        \n",
    "    def fit(self, x, n_steps=5000):\n",
    "        self.history_lastbatch = []\n",
    "        for epoch in pbar(range(n_steps)):\n",
    "            loss_value = self.train_step(x)\n",
    "            self.history_lastbatch.append(loss_value.numpy())\n",
    "            self.history.append(loss_value.numpy())\n",
    "            \n",
    "    def print_values(self):\n",
    "        print (\"param     obtained  true_value\")\n",
    "        for a,b in zip(self.tparams, self.params):\n",
    "            print (a.name.split(\":\")[0], \"    %8.3f  %8.3f\"%(a.numpy(), b))        "
   ]
  },
  {
   "cell_type": "code",
   "execution_count": 20,
   "metadata": {},
   "outputs": [
    {
     "data": {
      "text/plain": [
       "array([ 0.23358411,  0.57757253,  0.05290956,  0.03510515, -1.92439543])"
      ]
     },
     "execution_count": 20,
     "metadata": {},
     "output_type": "execute_result"
    },
    {
     "data": {
      "image/png": "[encoded data removed]",
      "text/plain": [
       "<Figure size 432x288 with 1 Axes>"
      ]
     },
     "metadata": {
      "needs_background": "light"
     },
     "output_type": "display_data"
    }
   ],
   "source": [
    "m = MLE_GausMixture()\n",
    "x = m.rvs(10000)\n",
    "m.plot_sample(x)\n",
    "m.params"
   ]
  },
  {
   "cell_type": "code",
   "execution_count": 21,
   "metadata": {},
   "outputs": [
    {
     "data": {
      "text/plain": [
       "[<tf.Variable 'm1:0' shape=() dtype=float64, numpy=1.1778190649400457>,\n",
       " <tf.Variable 'm2:0' shape=() dtype=float64, numpy=2.462421582122195>,\n",
       " <tf.Variable 's1:0' shape=() dtype=float64, numpy=0.04331112429723627>,\n",
       " <tf.Variable 's2:0' shape=() dtype=float64, numpy=0.18338952205309422>,\n",
       " <tf.Variable 'p1:0' shape=() dtype=float64, numpy=0.0>]"
      ]
     },
     "execution_count": 21,
     "metadata": {},
     "output_type": "execute_result"
    }
   ],
   "source": [
    "m.init_optimizer()\n",
    "m.tparams"
   ]
  },
  {
   "cell_type": "code",
   "execution_count": 22,
   "metadata": {},
   "outputs": [
    {
     "name": "stderr",
     "output_type": "stream",
     "text": [
      "100% (10000 of 10000) |##################| Elapsed Time: 0:00:03 Time:  0:00:03\n"
     ]
    },
    {
     "name": "stdout",
     "output_type": "stream",
     "text": [
      "param     obtained  true_value\n",
      "m1        0.483     0.234\n",
      "m2        2.420     0.578\n",
      "s1        0.159     0.053\n",
      "s2        0.225     0.035\n",
      "p1        7.218    -1.924\n"
     ]
    },
    {
     "data": {
      "image/png": "[encoded data removed]",
      "text/plain": [
       "<Figure size 432x288 with 1 Axes>"
      ]
     },
     "metadata": {
      "needs_background": "light"
     },
     "output_type": "display_data"
    }
   ],
   "source": [
    "m.fit(x, n_steps=10000)\n",
    "plt.plot(m.history_lastbatch)\n",
    "m.print_values()"
   ]
  },
  {
   "cell_type": "code",
   "execution_count": null,
   "metadata": {},
   "outputs": [],
   "source": []
  },
  {
   "cell_type": "code",
   "execution_count": null,
   "metadata": {},
   "outputs": [],
   "source": []
  },
  {
   "cell_type": "code",
   "execution_count": null,
   "metadata": {},
   "outputs": [],
   "source": []
  },
  {
   "cell_type": "code",
   "execution_count": null,
   "metadata": {},
   "outputs": [],
   "source": []
  },
  {
   "cell_type": "code",
   "execution_count": 23,
   "metadata": {},
   "outputs": [],
   "source": [
    "t, mu_s, sigma_s, mu = 0.03, 60, 6, .1\n",
    "m = h2.MLE_SignalBg([t, mu_s, sigma_s, mu])\n",
    "x = m.rvs(10000)"
   ]
  },
  {
   "cell_type": "code",
   "execution_count": 24,
   "metadata": {},
   "outputs": [
    {
     "data": {
      "image/png": "[encoded data removed]",
      "text/plain": [
       "<Figure size 432x288 with 1 Axes>"
      ]
     },
     "metadata": {
      "needs_background": "light"
     },
     "output_type": "display_data"
    }
   ],
   "source": [
    "m.plot_sample(x, bins=50)"
   ]
  },
  {
   "cell_type": "markdown",
   "metadata": {},
   "source": [
    "### optimization with all params free"
   ]
  },
  {
   "cell_type": "code",
   "execution_count": 25,
   "metadata": {},
   "outputs": [
    {
     "data": {
      "text/plain": [
       "[<tf.Variable 't:0' shape=() dtype=float64, numpy=0.17906775579663126>,\n",
       " <tf.Variable 'mu_s:0' shape=() dtype=float64, numpy=38.37863284797883>,\n",
       " <tf.Variable 'sigma_s:0' shape=() dtype=float64, numpy=7.018877165010157>,\n",
       " <tf.Variable 'mu:0' shape=() dtype=float64, numpy=0.0002350626459827514>]"
      ]
     },
     "execution_count": 25,
     "metadata": {},
     "output_type": "execute_result"
    }
   ],
   "source": [
    "m.init_optimizer(learning_rate=.001)\n",
    "m.tparams"
   ]
  },
  {
   "cell_type": "code",
   "execution_count": 26,
   "metadata": {},
   "outputs": [
    {
     "data": {
      "text/plain": [
       "(8.059106357484112, 4.542987525723905)"
      ]
     },
     "execution_count": 26,
     "metadata": {},
     "output_type": "execute_result"
    }
   ],
   "source": [
    "m.likelihood(x, m.tparams).numpy(), m.likelihood(x, m.params).numpy()"
   ]
  },
  {
   "cell_type": "code",
   "execution_count": 27,
   "metadata": {},
   "outputs": [
    {
     "name": "stderr",
     "output_type": "stream",
     "text": [
      "100% (30000 of 30000) |##################| Elapsed Time: 0:00:10 Time:  0:00:10\n"
     ]
    },
    {
     "name": "stdout",
     "output_type": "stream",
     "text": [
      "   param     obtained  true_value\n",
      "       t        0.030     0.030\n",
      "    mu_s       54.050    60.000\n",
      " sigma_s       11.152     6.000\n",
      "      mu       -0.130     0.100\n"
     ]
    },
    {
     "data": {
      "text/plain": [
       "4.551513873822785"
      ]
     },
     "execution_count": 27,
     "metadata": {},
     "output_type": "execute_result"
    },
    {
     "data": {
      "image/png": "[encoded data removed]",
      "text/plain": [
       "<Figure size 432x288 with 1 Axes>"
      ]
     },
     "metadata": {
      "needs_background": "light"
     },
     "output_type": "display_data"
    }
   ],
   "source": [
    "m.fit(x, n_steps=30000)\n",
    "plt.plot(m.history_lastbatch)\n",
    "m.print_values()\n",
    "m.likelihood(x, m.tparams).numpy()"
   ]
  },
  {
   "cell_type": "markdown",
   "metadata": {},
   "source": [
    "shape of distribution of the obtained parameters"
   ]
  },
  {
   "cell_type": "code",
   "execution_count": 28,
   "metadata": {},
   "outputs": [
    {
     "ename": "NameError",
     "evalue": "name 'MLE_SignalBg' is not defined",
     "output_type": "error",
     "traceback": [
      "\u001b[0;31m---------------------------------------------------------------------------\u001b[0m",
      "\u001b[0;31mNameError\u001b[0m                                 Traceback (most recent call last)",
      "\u001b[0;32m<ipython-input-28-19314ec70bd7>\u001b[0m in \u001b[0;36m<module>\u001b[0;34m\u001b[0m\n\u001b[0;32m----> 1\u001b[0;31m \u001b[0mm2\u001b[0m \u001b[0;34m=\u001b[0m \u001b[0mMLE_SignalBg\u001b[0m\u001b[0;34m(\u001b[0m\u001b[0;34m[\u001b[0m\u001b[0mi\u001b[0m\u001b[0;34m.\u001b[0m\u001b[0mnumpy\u001b[0m\u001b[0;34m(\u001b[0m\u001b[0;34m)\u001b[0m \u001b[0;32mfor\u001b[0m \u001b[0mi\u001b[0m \u001b[0;32min\u001b[0m \u001b[0mm\u001b[0m\u001b[0;34m.\u001b[0m\u001b[0mtparams\u001b[0m\u001b[0;34m]\u001b[0m\u001b[0;34m)\u001b[0m\u001b[0;34m\u001b[0m\u001b[0;34m\u001b[0m\u001b[0m\n\u001b[0m\u001b[1;32m      2\u001b[0m \u001b[0mm2\u001b[0m\u001b[0;34m.\u001b[0m\u001b[0mplot_sample\u001b[0m\u001b[0;34m(\u001b[0m\u001b[0mm2\u001b[0m\u001b[0;34m.\u001b[0m\u001b[0mrvs\u001b[0m\u001b[0;34m(\u001b[0m\u001b[0;36m10000\u001b[0m\u001b[0;34m)\u001b[0m\u001b[0;34m,\u001b[0m \u001b[0mbins\u001b[0m\u001b[0;34m=\u001b[0m\u001b[0;36m50\u001b[0m\u001b[0;34m)\u001b[0m\u001b[0;34m\u001b[0m\u001b[0;34m\u001b[0m\u001b[0m\n\u001b[1;32m      3\u001b[0m \u001b[0mplt\u001b[0m\u001b[0;34m.\u001b[0m\u001b[0mshow\u001b[0m\u001b[0;34m(\u001b[0m\u001b[0;34m)\u001b[0m\u001b[0;34m\u001b[0m\u001b[0;34m\u001b[0m\u001b[0m\n",
      "\u001b[0;31mNameError\u001b[0m: name 'MLE_SignalBg' is not defined"
     ]
    }
   ],
   "source": [
    "m2 = MLE_SignalBg([i.numpy() for i in m.tparams])\n",
    "m2.plot_sample(m2.rvs(10000), bins=50)\n",
    "plt.show()"
   ]
  },
  {
   "cell_type": "markdown",
   "metadata": {},
   "source": [
    "### optimization with only $\\mu$ free"
   ]
  },
  {
   "cell_type": "code",
   "execution_count": null,
   "metadata": {},
   "outputs": [],
   "source": [
    "m.init_optimizer(learning_rate=.001, fixed_params=[\"t\", \"mu_s\", \"sigma_s\"])\n",
    "m.tparams"
   ]
  },
  {
   "cell_type": "code",
   "execution_count": null,
   "metadata": {},
   "outputs": [],
   "source": [
    "m.free_params"
   ]
  },
  {
   "cell_type": "code",
   "execution_count": null,
   "metadata": {},
   "outputs": [],
   "source": [
    "m.likelihood(x, m.tparams).numpy(), m.likelihood(x, m.params).numpy()"
   ]
  },
  {
   "cell_type": "code",
   "execution_count": null,
   "metadata": {},
   "outputs": [],
   "source": [
    "m.fit(x, n_steps=30000)\n",
    "plt.plot(m.history_lastbatch)\n",
    "m.print_values()\n",
    "m.likelihood(x, m.tparams).numpy()"
   ]
  },
  {
   "cell_type": "markdown",
   "metadata": {},
   "source": [
    "## inspecting likelihood ratio\n",
    "\n",
    "this is the real data (no signal)"
   ]
  },
  {
   "cell_type": "code",
   "execution_count": null,
   "metadata": {},
   "outputs": [],
   "source": [
    "p1 = np.r_[0.03, 60, 6, 0]\n",
    "m1 = MLE_SignalBg(p1)\n",
    "x1 = m1.rvs(10000)\n",
    "m1.plot_sample(x1)"
   ]
  },
  {
   "cell_type": "markdown",
   "metadata": {},
   "source": [
    "however our theory predicts this"
   ]
  },
  {
   "cell_type": "code",
   "execution_count": null,
   "metadata": {},
   "outputs": [],
   "source": [
    "p2 = np.r_[0.03, 80, 5, 0.3]\n",
    "m2 = MLE_SignalBg(p2)\n",
    "m2.plot_sample(x1)"
   ]
  },
  {
   "cell_type": "markdown",
   "metadata": {},
   "source": [
    "MLE with all free params"
   ]
  },
  {
   "cell_type": "code",
   "execution_count": null,
   "metadata": {},
   "outputs": [],
   "source": [
    "m2.init_optimizer(learning_rate=.001)\n",
    "m2.fit(x1, n_steps=30000)\n",
    "plt.plot(m2.history_lastbatch)\n",
    "m2.print_values()\n",
    "m2.likelihood(x1, m2.tparams).numpy()"
   ]
  },
  {
   "cell_type": "markdown",
   "metadata": {},
   "source": [
    "MLE with only $\\mu$ free"
   ]
  },
  {
   "cell_type": "code",
   "execution_count": null,
   "metadata": {},
   "outputs": [],
   "source": [
    "m2.init_optimizer(learning_rate=.001, fixed_params=[\"t\", \"mu_s\", \"sigma_s\"])\n",
    "m2.fit(x1, n_steps=30000)\n",
    "plt.plot(m2.history_lastbatch)\n",
    "m2.print_values()\n",
    "m2.likelihood(x1, m2.tparams).numpy()"
   ]
  },
  {
   "cell_type": "code",
   "execution_count": null,
   "metadata": {},
   "outputs": [],
   "source": []
  },
  {
   "cell_type": "code",
   "execution_count": null,
   "metadata": {},
   "outputs": [],
   "source": []
  },
  {
   "cell_type": "code",
   "execution_count": null,
   "metadata": {},
   "outputs": [],
   "source": []
  },
  {
   "cell_type": "code",
   "execution_count": null,
   "metadata": {},
   "outputs": [],
   "source": []
  },
  {
   "cell_type": "markdown",
   "metadata": {},
   "source": [
    "### the following set of parameters have similar likelihoods "
   ]
  },
  {
   "cell_type": "code",
   "execution_count": 29,
   "metadata": {},
   "outputs": [],
   "source": [
    "p1 = np.r_[ 0.05, 60, 6, .3]\n",
    "p2 = np.r_[0.034, 11.996, 5.738, 0]"
   ]
  },
  {
   "cell_type": "code",
   "execution_count": 31,
   "metadata": {},
   "outputs": [
    {
     "data": {
      "image/png": "[encoded data removed]",
      "text/plain": [
       "<Figure size 1080x288 with 2 Axes>"
      ]
     },
     "metadata": {
      "needs_background": "light"
     },
     "output_type": "display_data"
    }
   ],
   "source": [
    "plt.figure(figsize=(15,4))\n",
    "plt.subplot(121)\n",
    "k1 = h2.MLE_SignalBg(p1)\n",
    "x1 = k1.rvs(10000)\n",
    "k1.plot_sample(x1, bins=50)\n",
    "plt.xlim(0,100)\n",
    "plt.subplot(122)\n",
    "k2 = h2.MLE_SignalBg(p2)\n",
    "x2 = k2.rvs(10000)\n",
    "k2.plot_sample(x2, bins=50)\n",
    "plt.xlim(0,100)\n",
    "plt.show()"
   ]
  },
  {
   "cell_type": "markdown",
   "metadata": {},
   "source": [
    "observe how likelihood are very close for both parameter sets even if the underlying distribution is very different"
   ]
  },
  {
   "cell_type": "code",
   "execution_count": null,
   "metadata": {},
   "outputs": [],
   "source": []
  },
  {
   "cell_type": "code",
   "execution_count": 33,
   "metadata": {},
   "outputs": [
    {
     "data": {
      "text/plain": [
       "(4.209092814222311, 4.371225989820003)"
      ]
     },
     "execution_count": 33,
     "metadata": {},
     "output_type": "execute_result"
    }
   ],
   "source": [
    "k1.likelihood(x1,p1).numpy(), k1.likelihood(x1,p2).numpy()"
   ]
  }
 ],
 "metadata": {
  "kernelspec": {
   "display_name": "p38",
   "language": "python",
   "name": "p38"
  },
  "language_info": {
   "codemirror_mode": {
    "name": "ipython",
    "version": 3
   },
   "file_extension": ".py",
   "mimetype": "text/x-python",
   "name": "python",
   "nbconvert_exporter": "python",
   "pygments_lexer": "ipython3",
   "version": "3.8.2"
  }
 },
 "nbformat": 4,
 "nbformat_minor": 4
}
