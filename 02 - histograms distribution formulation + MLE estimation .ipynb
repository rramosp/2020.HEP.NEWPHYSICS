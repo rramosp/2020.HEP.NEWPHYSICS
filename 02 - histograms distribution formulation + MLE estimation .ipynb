{
  "nbformat": 4,
  "nbformat_minor": 0,
  "metadata": {
    "kernelspec": {
      "display_name": "p37",
      "language": "python",
      "name": "p37"
    },
    "language_info": {
      "codemirror_mode": {
        "name": "ipython",
        "version": 3
      },
      "file_extension": ".py",
      "mimetype": "text/x-python",
      "name": "python",
      "nbconvert_exporter": "python",
      "pygments_lexer": "ipython3",
      "version": "3.7.6"
    },
    "colab": {
      "name": "02 - histograms distribution formulation + MLE estimation .ipynb",
      "provenance": [],
      "include_colab_link": true
    }
  },
  "cells": [
    {
      "cell_type": "markdown",
      "metadata": {
        "id": "view-in-github",
        "colab_type": "text"
      },
      "source": [
        "<a href=\"https://colab.research.google.com/github/rramosp/2020.HEP.NEWPHYSICS/blob/master/02%20-%20histograms%20distribution%20formulation%20%2B%20MLE%20estimation%20.ipynb\" target=\"_parent\"><img src=\"https://colab.research.google.com/assets/colab-badge.svg\" alt=\"Open In Colab\"/></a>"
      ]
    },
    {
      "cell_type": "code",
      "metadata": {
        "id": "SkowjwhER_og",
        "colab_type": "code",
        "colab": {}
      },
      "source": [
        "!wget --no-cache -O init.py -q https://raw.githubusercontent.com/rramosp/2020.HEP.NEWPHYSICS/master/init.py\n",
        "import init; init.init(force_download=False);"
      ],
      "execution_count": 0,
      "outputs": []
    },
    {
      "cell_type": "code",
      "metadata": {
        "id": "bHKF2f2nR_ot",
        "colab_type": "code",
        "colab": {},
        "outputId": "6546fcba-4a37-40f8-f8f5-b023ec4af418"
      },
      "source": [
        "import numpy as np\n",
        "import matplotlib.pyplot as plt\n",
        "%matplotlib inline\n",
        "from progressbar import progressbar as pbar\n",
        "from local.lib import histos2d as h2d\n",
        "\n",
        "from IPython.core.display import display, HTML\n",
        "display(HTML(\"<style>.container { width:100% !important; }</style>\"))"
      ],
      "execution_count": 0,
      "outputs": [
        {
          "output_type": "display_data",
          "data": {
            "text/html": [
              "<style>.container { width:100% !important; }</style>"
            ],
            "text/plain": [
              "<IPython.core.display.HTML object>"
            ]
          },
          "metadata": {
            "tags": []
          }
        }
      ]
    },
    {
      "cell_type": "markdown",
      "metadata": {
        "id": "tJuiGQZSR_o4",
        "colab_type": "text"
      },
      "source": [
        "# Asymptotic formulae for likelihood-based tests of new physics\n",
        "\n",
        "https://arxiv.org/abs/1007.1727\n",
        "\n",
        "Section 2 describes how to build a histogram $\\mathbf{n}=(n_1,...,n_N)$ from measuring a variable $x$ that has a background and signal component. Each component distribution is predicted by some theory. A parameter $\\mu \\in [0,1]$ represents the degree of presence of signal ($\\mu=0 \\rightarrow$ only background, $\\mu=1 \\rightarrow$ signal + background).\n",
        "\n",
        "We consider the process of building histograms many times and, thus, we have a distribution of histograms. The expected value of the number of measurements contained in bin $n_i$ can be written as:\n",
        "\n",
        "$$\\begin{equation*}\n",
        "\\mathbb{E}[n_i] = \\mu s_i + b_i\n",
        "\\end{equation*}\n",
        "\\tag{1}\n",
        "$$\n",
        "\n",
        "and the mean number of entries of signal and background are:\n",
        "\n",
        "\n",
        "$$\\begin{equation*}\n",
        "s_i = s_\\text{tot}\\int_{\\text{bin }i} f_s(x;\\boldsymbol{\\theta}_s)dx\\\\\n",
        "b_i = b_\\text{tot}\\int_{\\text{bin }i} f_b(x;\\boldsymbol{\\theta}_b)dx\n",
        "\\end{equation*}\n",
        "\\tag{2}\n",
        "$$\n",
        "\n",
        "where\n",
        "\n",
        "- $s_\\text{tot}, b_\\text{tot} \\in [0,1]$ and $s_\\text{tot}+b_\\text{tot}=1$ is the porcentage of measurements coming from the signal and from the background respectively.\n",
        "- $f_s(x;\\boldsymbol{\\theta}_s)$ and $f_b(x;\\boldsymbol{\\theta}_b)$ are the $pdf$'s for variable $x$ as coming from signal or background\n",
        "\n",
        "finally, the distribution of each bin is given by a Poisson variable\n",
        "\n",
        "\n",
        "$$\\begin{equation*}\n",
        "n_i \\sim \\text{Poisson}(\\lambda_i) \\;\\;\\; \\text{ with } \\lambda_i=\\mu s_i + b_i\\\\\n",
        "P(n_i; \\mu, \\boldsymbol{\\theta}_s, \\boldsymbol{\\theta}_b, s_\\text{tot}, b_\\text{tot}) = P(n_i; \\mu, \\boldsymbol{\\theta}, s_\\text{tot} ) = \\frac{\\lambda_i^{n_i}}{n_i!}e^{-\\lambda_i} = \\frac{(\\mu s_i + b_i)^{n_i}}{n_i!}e^{-\\mu s_i + b_i}\n",
        "\\end{equation*}\n",
        "\\tag{3}\n",
        "$$\n",
        "\n",
        "with $\\boldsymbol{\\theta} = (\\boldsymbol{\\theta}_s, \\boldsymbol{\\theta}_b, b_\\text{tot})$, assuming $s_\\text{tot}$ is fixed given by the theory and focusing on $\\mu$.\n",
        "\n",
        "observe that for any random variable $Z \\sim \\text{Poisson}(\\lambda)$ its expected value $\\mathbb{E}[Z]=\\lambda$ (see [Poisson distribution](https://en.wikipedia.org/wiki/Poisson_distribution) and, since the random variable associated with each bin $n_i\\sim \\text{Poisson}(\\lambda_i)$, then $\\mathbb{E}[n_i] = \\lambda_i = \\mu s_i + b_i$\n",
        "\n",
        "### background and signal distributions\n",
        "\n",
        "In this notebook, we **assume** background and signal distributions are the following\n",
        "\n",
        "- $b \\sim \\text{exp}(t)$ with pdf $f_b(x;\\boldsymbol{\\theta}_b)$ and   $\\boldsymbol{\\theta}_b=(t)\\;\\;\\;\\;$ we use $t$ instead of $\\lambda$ as customary for the Exponential distribuion for convinience in Python code\n",
        "- $s \\sim \\mathcal{N}(\\mu_s, \\sigma_s)$ with pdf $f_s(x;\\boldsymbol{\\theta}_s)$ and $\\boldsymbol{\\theta}_s=(\\mu_s, \\sigma_s)$\n",
        "\n",
        "Also, a specification of $N$ bins is given in `bin_edges` $\\in \\mathbb{R}^{N+1}$\n",
        "\n",
        "\n",
        "### log likelihood\n",
        "\n",
        "for the moment we try to estimate $\\mu$ assuming all the rest of parameters $ (\\boldsymbol{\\theta}, s_\\text{tot}) $ are fixed.\n",
        "\n",
        "Given **one** observed histogram, the log likelihood of a given $\\mu$ is given by:\n",
        "\n",
        "\n",
        "$$\\mathcal{L}(\\mu) = \\log \\prod_{i=1}^N \\frac{(\\mu s_i + b_i)^{\\overline{n_i}}}{\\overline{n_i}!}e^{-\\mu s_i + b_i} =  \\sum_{i=1}^N \\overline{n_i} \\log  (\\mu s_i + b_i) - \\log (\\overline{n_i}!)-\\mu s_i - b_i$$\n",
        "\n",
        "where $\\overline{n_i}$ is the observed count in bin $i$, and we want:\n",
        "\n",
        "\n",
        "$$\\text{MLE}(\\mu) = \\underset{\\mu}{\\text{arg max}} \\;\\;\\mathcal{L}(\\mu) $$"
      ]
    },
    {
      "cell_type": "code",
      "metadata": {
        "id": "sbY4A4pzR_o6",
        "colab_type": "code",
        "colab": {}
      },
      "source": [
        ""
      ],
      "execution_count": 0,
      "outputs": []
    },
    {
      "cell_type": "code",
      "metadata": {
        "id": "-J7kl1nnR_pE",
        "colab_type": "code",
        "colab": {}
      },
      "source": [
        ""
      ],
      "execution_count": 0,
      "outputs": []
    },
    {
      "cell_type": "code",
      "metadata": {
        "id": "T0YsfCy4R_pN",
        "colab_type": "code",
        "colab": {},
        "outputId": "59e88886-4005-4131-9ae1-d0fe6fcbcb9b"
      },
      "source": [
        "n_bins = 20\n",
        "bin_edges = np.r_[list(np.linspace(0,180,n_bins))+[np.inf]]\n",
        "bin_edges"
      ],
      "execution_count": 0,
      "outputs": [
        {
          "output_type": "execute_result",
          "data": {
            "text/plain": [
              "array([  0.        ,   9.47368421,  18.94736842,  28.42105263,\n",
              "        37.89473684,  47.36842105,  56.84210526,  66.31578947,\n",
              "        75.78947368,  85.26315789,  94.73684211, 104.21052632,\n",
              "       113.68421053, 123.15789474, 132.63157895, 142.10526316,\n",
              "       151.57894737, 161.05263158, 170.52631579, 180.        ,\n",
              "                inf])"
            ]
          },
          "metadata": {
            "tags": []
          },
          "execution_count": 2
        }
      ]
    },
    {
      "cell_type": "markdown",
      "metadata": {
        "id": "bv1UQW1pR_pX",
        "colab_type": "text"
      },
      "source": [
        "### set up an experiment"
      ]
    },
    {
      "cell_type": "code",
      "metadata": {
        "id": "VBQUd2PaR_pZ",
        "colab_type": "code",
        "colab": {}
      },
      "source": [
        "e1 = h2d.BS_hist_experiment(t=0.03, mu_s=60, sigma_s=4, mu=1, stot=1000, btot=10000, bin_edges=bin_edges)"
      ],
      "execution_count": 0,
      "outputs": []
    },
    {
      "cell_type": "markdown",
      "metadata": {
        "id": "-itSxybvR_pi",
        "colab_type": "text"
      },
      "source": [
        "### the values for $\\mathbb{E}[n_i]$, $s_i$ and $b_i$ as given by  eqs $(1)$ and $(2)$ above"
      ]
    },
    {
      "cell_type": "code",
      "metadata": {
        "id": "PR8-EsZyR_pl",
        "colab_type": "code",
        "colab": {},
        "outputId": "785c5fb4-a6bd-4264-f2a9-b79d01fb3037"
      },
      "source": [
        "e1.ni"
      ],
      "execution_count": 0,
      "outputs": [
        {
          "output_type": "execute_result",
          "data": {
            "text/plain": [
              "array([2473.91815802, 1861.89105276, 1401.27444439, 1054.61063151,\n",
              "        794.5031284 ,  811.47461093, 1177.4800157 ,  395.48588533,\n",
              "        254.68548585,  191.64864765,  144.23634061,  108.5534504 ,\n",
              "         81.69821519,   61.48674539,   46.2754278 ,   34.82726569,\n",
              "         26.21128519,   19.72682775,   14.84657202,   45.16580943])"
            ]
          },
          "metadata": {
            "tags": []
          },
          "execution_count": 18
        }
      ]
    },
    {
      "cell_type": "code",
      "metadata": {
        "id": "uOLtGYbHR_pu",
        "colab_type": "code",
        "colab": {},
        "outputId": "ddf3656a-4744-49b1-fe8b-eaefe8dd3af6"
      },
      "source": [
        "e1.si"
      ],
      "execution_count": 0,
      "outputs": [
        {
          "output_type": "execute_result",
          "data": {
            "text/plain": [
              "array([7.07059435e-34, 5.16365626e-22, 1.45464216e-12, 1.63512626e-05,\n",
              "       7.94548290e-01, 2.14123038e+02, 7.27908333e+02, 5.71345574e+01,\n",
              "       3.95073245e-02, 1.34392830e-07, 0.00000000e+00, 0.00000000e+00,\n",
              "       0.00000000e+00, 0.00000000e+00, 0.00000000e+00, 0.00000000e+00,\n",
              "       0.00000000e+00, 0.00000000e+00, 0.00000000e+00, 0.00000000e+00])"
            ]
          },
          "metadata": {
            "tags": []
          },
          "execution_count": 19
        }
      ]
    },
    {
      "cell_type": "code",
      "metadata": {
        "id": "zW8qv--IR_p1",
        "colab_type": "code",
        "colab": {},
        "outputId": "a7aa5e14-7180-464d-e5ca-916f152eecc9"
      },
      "source": [
        "e1.bi"
      ],
      "execution_count": 0,
      "outputs": [
        {
          "output_type": "execute_result",
          "data": {
            "text/plain": [
              "array([2473.91815802, 1861.89105276, 1401.27444439, 1054.61061516,\n",
              "        793.70858011,  597.35157326,  449.57168288,  338.35132792,\n",
              "        254.64597853,  191.64864751,  144.23634061,  108.5534504 ,\n",
              "         81.69821519,   61.48674539,   46.2754278 ,   34.82726569,\n",
              "         26.21128519,   19.72682775,   14.84657202,   45.16580943])"
            ]
          },
          "metadata": {
            "tags": []
          },
          "execution_count": 20
        }
      ]
    },
    {
      "cell_type": "markdown",
      "metadata": {
        "id": "VWNfGRIXR_p7",
        "colab_type": "text"
      },
      "source": [
        "### we can sample histograms"
      ]
    },
    {
      "cell_type": "code",
      "metadata": {
        "id": "8zHJxMslR_p8",
        "colab_type": "code",
        "colab": {},
        "outputId": "522789f0-cade-4882-8da2-478b4885c6ed"
      },
      "source": [
        "sn, ss, sb = e1.sample_histograms(n_samples=20)"
      ],
      "execution_count": 0,
      "outputs": [
        {
          "output_type": "stream",
          "text": [
            "100% (20 of 20) |########################| Elapsed Time: 0:00:00 Time:  0:00:00\n"
          ],
          "name": "stderr"
        }
      ]
    },
    {
      "cell_type": "code",
      "metadata": {
        "id": "kkA7oYdfR_qC",
        "colab_type": "code",
        "colab": {},
        "outputId": "0551a4a9-9576-42b8-f5c8-20c4f121073f"
      },
      "source": [
        "sn.head()"
      ],
      "execution_count": 0,
      "outputs": [
        {
          "output_type": "execute_result",
          "data": {
            "text/html": [
              "<div>\n",
              "<style scoped>\n",
              "    .dataframe tbody tr th:only-of-type {\n",
              "        vertical-align: middle;\n",
              "    }\n",
              "\n",
              "    .dataframe tbody tr th {\n",
              "        vertical-align: top;\n",
              "    }\n",
              "\n",
              "    .dataframe thead th {\n",
              "        text-align: right;\n",
              "    }\n",
              "</style>\n",
              "<table border=\"1\" class=\"dataframe\">\n",
              "  <thead>\n",
              "    <tr style=\"text-align: right;\">\n",
              "      <th>bin_nb</th>\n",
              "      <th>0</th>\n",
              "      <th>1</th>\n",
              "      <th>2</th>\n",
              "      <th>3</th>\n",
              "      <th>4</th>\n",
              "      <th>5</th>\n",
              "      <th>6</th>\n",
              "      <th>7</th>\n",
              "      <th>8</th>\n",
              "      <th>9</th>\n",
              "      <th>10</th>\n",
              "      <th>11</th>\n",
              "      <th>12</th>\n",
              "      <th>13</th>\n",
              "      <th>14</th>\n",
              "      <th>15</th>\n",
              "      <th>16</th>\n",
              "      <th>17</th>\n",
              "      <th>18</th>\n",
              "      <th>19</th>\n",
              "    </tr>\n",
              "    <tr>\n",
              "      <th>sample_nb</th>\n",
              "      <th></th>\n",
              "      <th></th>\n",
              "      <th></th>\n",
              "      <th></th>\n",
              "      <th></th>\n",
              "      <th></th>\n",
              "      <th></th>\n",
              "      <th></th>\n",
              "      <th></th>\n",
              "      <th></th>\n",
              "      <th></th>\n",
              "      <th></th>\n",
              "      <th></th>\n",
              "      <th></th>\n",
              "      <th></th>\n",
              "      <th></th>\n",
              "      <th></th>\n",
              "      <th></th>\n",
              "      <th></th>\n",
              "      <th></th>\n",
              "    </tr>\n",
              "  </thead>\n",
              "  <tbody>\n",
              "    <tr>\n",
              "      <th>0</th>\n",
              "      <td>2449</td>\n",
              "      <td>1855</td>\n",
              "      <td>1390</td>\n",
              "      <td>1023</td>\n",
              "      <td>817</td>\n",
              "      <td>897</td>\n",
              "      <td>1138</td>\n",
              "      <td>409</td>\n",
              "      <td>273</td>\n",
              "      <td>173</td>\n",
              "      <td>147</td>\n",
              "      <td>89</td>\n",
              "      <td>80</td>\n",
              "      <td>69</td>\n",
              "      <td>49</td>\n",
              "      <td>31</td>\n",
              "      <td>27</td>\n",
              "      <td>23</td>\n",
              "      <td>11</td>\n",
              "      <td>50</td>\n",
              "    </tr>\n",
              "    <tr>\n",
              "      <th>1</th>\n",
              "      <td>2433</td>\n",
              "      <td>1872</td>\n",
              "      <td>1416</td>\n",
              "      <td>1043</td>\n",
              "      <td>792</td>\n",
              "      <td>802</td>\n",
              "      <td>1211</td>\n",
              "      <td>371</td>\n",
              "      <td>298</td>\n",
              "      <td>208</td>\n",
              "      <td>139</td>\n",
              "      <td>112</td>\n",
              "      <td>70</td>\n",
              "      <td>62</td>\n",
              "      <td>46</td>\n",
              "      <td>25</td>\n",
              "      <td>19</td>\n",
              "      <td>19</td>\n",
              "      <td>12</td>\n",
              "      <td>50</td>\n",
              "    </tr>\n",
              "    <tr>\n",
              "      <th>2</th>\n",
              "      <td>2544</td>\n",
              "      <td>1839</td>\n",
              "      <td>1395</td>\n",
              "      <td>1072</td>\n",
              "      <td>810</td>\n",
              "      <td>807</td>\n",
              "      <td>1143</td>\n",
              "      <td>412</td>\n",
              "      <td>237</td>\n",
              "      <td>175</td>\n",
              "      <td>127</td>\n",
              "      <td>101</td>\n",
              "      <td>73</td>\n",
              "      <td>63</td>\n",
              "      <td>42</td>\n",
              "      <td>38</td>\n",
              "      <td>23</td>\n",
              "      <td>23</td>\n",
              "      <td>21</td>\n",
              "      <td>55</td>\n",
              "    </tr>\n",
              "    <tr>\n",
              "      <th>3</th>\n",
              "      <td>2535</td>\n",
              "      <td>1872</td>\n",
              "      <td>1394</td>\n",
              "      <td>997</td>\n",
              "      <td>770</td>\n",
              "      <td>805</td>\n",
              "      <td>1181</td>\n",
              "      <td>401</td>\n",
              "      <td>276</td>\n",
              "      <td>201</td>\n",
              "      <td>158</td>\n",
              "      <td>97</td>\n",
              "      <td>85</td>\n",
              "      <td>71</td>\n",
              "      <td>40</td>\n",
              "      <td>26</td>\n",
              "      <td>18</td>\n",
              "      <td>13</td>\n",
              "      <td>19</td>\n",
              "      <td>41</td>\n",
              "    </tr>\n",
              "    <tr>\n",
              "      <th>4</th>\n",
              "      <td>2467</td>\n",
              "      <td>1878</td>\n",
              "      <td>1421</td>\n",
              "      <td>1029</td>\n",
              "      <td>767</td>\n",
              "      <td>847</td>\n",
              "      <td>1155</td>\n",
              "      <td>394</td>\n",
              "      <td>242</td>\n",
              "      <td>184</td>\n",
              "      <td>128</td>\n",
              "      <td>129</td>\n",
              "      <td>90</td>\n",
              "      <td>74</td>\n",
              "      <td>49</td>\n",
              "      <td>34</td>\n",
              "      <td>34</td>\n",
              "      <td>12</td>\n",
              "      <td>11</td>\n",
              "      <td>55</td>\n",
              "    </tr>\n",
              "  </tbody>\n",
              "</table>\n",
              "</div>"
            ],
            "text/plain": [
              "bin_nb        0     1     2     3    4    5     6    7    8    9   10   11  \\\n",
              "sample_nb                                                                    \n",
              "0          2449  1855  1390  1023  817  897  1138  409  273  173  147   89   \n",
              "1          2433  1872  1416  1043  792  802  1211  371  298  208  139  112   \n",
              "2          2544  1839  1395  1072  810  807  1143  412  237  175  127  101   \n",
              "3          2535  1872  1394   997  770  805  1181  401  276  201  158   97   \n",
              "4          2467  1878  1421  1029  767  847  1155  394  242  184  128  129   \n",
              "\n",
              "bin_nb     12  13  14  15  16  17  18  19  \n",
              "sample_nb                                  \n",
              "0          80  69  49  31  27  23  11  50  \n",
              "1          70  62  46  25  19  19  12  50  \n",
              "2          73  63  42  38  23  23  21  55  \n",
              "3          85  71  40  26  18  13  19  41  \n",
              "4          90  74  49  34  34  12  11  55  "
            ]
          },
          "metadata": {
            "tags": []
          },
          "execution_count": 22
        }
      ]
    },
    {
      "cell_type": "code",
      "metadata": {
        "id": "OLKpzinhR_qI",
        "colab_type": "code",
        "colab": {},
        "outputId": "df5032ad-88e2-4155-8e01-96cefde68560"
      },
      "source": [
        "ss.head()"
      ],
      "execution_count": 0,
      "outputs": [
        {
          "output_type": "execute_result",
          "data": {
            "text/html": [
              "<div>\n",
              "<style scoped>\n",
              "    .dataframe tbody tr th:only-of-type {\n",
              "        vertical-align: middle;\n",
              "    }\n",
              "\n",
              "    .dataframe tbody tr th {\n",
              "        vertical-align: top;\n",
              "    }\n",
              "\n",
              "    .dataframe thead th {\n",
              "        text-align: right;\n",
              "    }\n",
              "</style>\n",
              "<table border=\"1\" class=\"dataframe\">\n",
              "  <thead>\n",
              "    <tr style=\"text-align: right;\">\n",
              "      <th>bin_nb</th>\n",
              "      <th>0</th>\n",
              "      <th>1</th>\n",
              "      <th>2</th>\n",
              "      <th>3</th>\n",
              "      <th>4</th>\n",
              "      <th>5</th>\n",
              "      <th>6</th>\n",
              "      <th>7</th>\n",
              "      <th>8</th>\n",
              "      <th>9</th>\n",
              "      <th>10</th>\n",
              "      <th>11</th>\n",
              "      <th>12</th>\n",
              "      <th>13</th>\n",
              "      <th>14</th>\n",
              "      <th>15</th>\n",
              "      <th>16</th>\n",
              "      <th>17</th>\n",
              "      <th>18</th>\n",
              "      <th>19</th>\n",
              "    </tr>\n",
              "    <tr>\n",
              "      <th>sample_nb</th>\n",
              "      <th></th>\n",
              "      <th></th>\n",
              "      <th></th>\n",
              "      <th></th>\n",
              "      <th></th>\n",
              "      <th></th>\n",
              "      <th></th>\n",
              "      <th></th>\n",
              "      <th></th>\n",
              "      <th></th>\n",
              "      <th></th>\n",
              "      <th></th>\n",
              "      <th></th>\n",
              "      <th></th>\n",
              "      <th></th>\n",
              "      <th></th>\n",
              "      <th></th>\n",
              "      <th></th>\n",
              "      <th></th>\n",
              "      <th></th>\n",
              "    </tr>\n",
              "  </thead>\n",
              "  <tbody>\n",
              "    <tr>\n",
              "      <th>0</th>\n",
              "      <td>0</td>\n",
              "      <td>0</td>\n",
              "      <td>0</td>\n",
              "      <td>0</td>\n",
              "      <td>1</td>\n",
              "      <td>249</td>\n",
              "      <td>682</td>\n",
              "      <td>68</td>\n",
              "      <td>0</td>\n",
              "      <td>0</td>\n",
              "      <td>0</td>\n",
              "      <td>0</td>\n",
              "      <td>0</td>\n",
              "      <td>0</td>\n",
              "      <td>0</td>\n",
              "      <td>0</td>\n",
              "      <td>0</td>\n",
              "      <td>0</td>\n",
              "      <td>0</td>\n",
              "      <td>0</td>\n",
              "    </tr>\n",
              "    <tr>\n",
              "      <th>1</th>\n",
              "      <td>0</td>\n",
              "      <td>0</td>\n",
              "      <td>0</td>\n",
              "      <td>0</td>\n",
              "      <td>2</td>\n",
              "      <td>208</td>\n",
              "      <td>737</td>\n",
              "      <td>53</td>\n",
              "      <td>0</td>\n",
              "      <td>0</td>\n",
              "      <td>0</td>\n",
              "      <td>0</td>\n",
              "      <td>0</td>\n",
              "      <td>0</td>\n",
              "      <td>0</td>\n",
              "      <td>0</td>\n",
              "      <td>0</td>\n",
              "      <td>0</td>\n",
              "      <td>0</td>\n",
              "      <td>0</td>\n",
              "    </tr>\n",
              "    <tr>\n",
              "      <th>2</th>\n",
              "      <td>0</td>\n",
              "      <td>0</td>\n",
              "      <td>0</td>\n",
              "      <td>0</td>\n",
              "      <td>0</td>\n",
              "      <td>206</td>\n",
              "      <td>718</td>\n",
              "      <td>76</td>\n",
              "      <td>0</td>\n",
              "      <td>0</td>\n",
              "      <td>0</td>\n",
              "      <td>0</td>\n",
              "      <td>0</td>\n",
              "      <td>0</td>\n",
              "      <td>0</td>\n",
              "      <td>0</td>\n",
              "      <td>0</td>\n",
              "      <td>0</td>\n",
              "      <td>0</td>\n",
              "      <td>0</td>\n",
              "    </tr>\n",
              "    <tr>\n",
              "      <th>3</th>\n",
              "      <td>0</td>\n",
              "      <td>0</td>\n",
              "      <td>0</td>\n",
              "      <td>0</td>\n",
              "      <td>1</td>\n",
              "      <td>216</td>\n",
              "      <td>723</td>\n",
              "      <td>60</td>\n",
              "      <td>0</td>\n",
              "      <td>0</td>\n",
              "      <td>0</td>\n",
              "      <td>0</td>\n",
              "      <td>0</td>\n",
              "      <td>0</td>\n",
              "      <td>0</td>\n",
              "      <td>0</td>\n",
              "      <td>0</td>\n",
              "      <td>0</td>\n",
              "      <td>0</td>\n",
              "      <td>0</td>\n",
              "    </tr>\n",
              "    <tr>\n",
              "      <th>4</th>\n",
              "      <td>0</td>\n",
              "      <td>0</td>\n",
              "      <td>0</td>\n",
              "      <td>0</td>\n",
              "      <td>1</td>\n",
              "      <td>243</td>\n",
              "      <td>698</td>\n",
              "      <td>58</td>\n",
              "      <td>0</td>\n",
              "      <td>0</td>\n",
              "      <td>0</td>\n",
              "      <td>0</td>\n",
              "      <td>0</td>\n",
              "      <td>0</td>\n",
              "      <td>0</td>\n",
              "      <td>0</td>\n",
              "      <td>0</td>\n",
              "      <td>0</td>\n",
              "      <td>0</td>\n",
              "      <td>0</td>\n",
              "    </tr>\n",
              "  </tbody>\n",
              "</table>\n",
              "</div>"
            ],
            "text/plain": [
              "bin_nb     0  1  2  3  4    5    6   7  8  9  10  11  12  13  14  15  16  17  \\\n",
              "sample_nb                                                                      \n",
              "0          0  0  0  0  1  249  682  68  0  0   0   0   0   0   0   0   0   0   \n",
              "1          0  0  0  0  2  208  737  53  0  0   0   0   0   0   0   0   0   0   \n",
              "2          0  0  0  0  0  206  718  76  0  0   0   0   0   0   0   0   0   0   \n",
              "3          0  0  0  0  1  216  723  60  0  0   0   0   0   0   0   0   0   0   \n",
              "4          0  0  0  0  1  243  698  58  0  0   0   0   0   0   0   0   0   0   \n",
              "\n",
              "bin_nb     18  19  \n",
              "sample_nb          \n",
              "0           0   0  \n",
              "1           0   0  \n",
              "2           0   0  \n",
              "3           0   0  \n",
              "4           0   0  "
            ]
          },
          "metadata": {
            "tags": []
          },
          "execution_count": 23
        }
      ]
    },
    {
      "cell_type": "code",
      "metadata": {
        "id": "vRsqWQjQR_qL",
        "colab_type": "code",
        "colab": {},
        "outputId": "760f5f5c-0c82-4d1e-ea23-53e6473aa933"
      },
      "source": [
        "sb.head()"
      ],
      "execution_count": 0,
      "outputs": [
        {
          "output_type": "execute_result",
          "data": {
            "text/html": [
              "<div>\n",
              "<style scoped>\n",
              "    .dataframe tbody tr th:only-of-type {\n",
              "        vertical-align: middle;\n",
              "    }\n",
              "\n",
              "    .dataframe tbody tr th {\n",
              "        vertical-align: top;\n",
              "    }\n",
              "\n",
              "    .dataframe thead th {\n",
              "        text-align: right;\n",
              "    }\n",
              "</style>\n",
              "<table border=\"1\" class=\"dataframe\">\n",
              "  <thead>\n",
              "    <tr style=\"text-align: right;\">\n",
              "      <th>bin_nb</th>\n",
              "      <th>0</th>\n",
              "      <th>1</th>\n",
              "      <th>2</th>\n",
              "      <th>3</th>\n",
              "      <th>4</th>\n",
              "      <th>5</th>\n",
              "      <th>6</th>\n",
              "      <th>7</th>\n",
              "      <th>8</th>\n",
              "      <th>9</th>\n",
              "      <th>10</th>\n",
              "      <th>11</th>\n",
              "      <th>12</th>\n",
              "      <th>13</th>\n",
              "      <th>14</th>\n",
              "      <th>15</th>\n",
              "      <th>16</th>\n",
              "      <th>17</th>\n",
              "      <th>18</th>\n",
              "      <th>19</th>\n",
              "    </tr>\n",
              "    <tr>\n",
              "      <th>sample_nb</th>\n",
              "      <th></th>\n",
              "      <th></th>\n",
              "      <th></th>\n",
              "      <th></th>\n",
              "      <th></th>\n",
              "      <th></th>\n",
              "      <th></th>\n",
              "      <th></th>\n",
              "      <th></th>\n",
              "      <th></th>\n",
              "      <th></th>\n",
              "      <th></th>\n",
              "      <th></th>\n",
              "      <th></th>\n",
              "      <th></th>\n",
              "      <th></th>\n",
              "      <th></th>\n",
              "      <th></th>\n",
              "      <th></th>\n",
              "      <th></th>\n",
              "    </tr>\n",
              "  </thead>\n",
              "  <tbody>\n",
              "    <tr>\n",
              "      <th>0</th>\n",
              "      <td>2449</td>\n",
              "      <td>1855</td>\n",
              "      <td>1390</td>\n",
              "      <td>1023</td>\n",
              "      <td>816</td>\n",
              "      <td>648</td>\n",
              "      <td>456</td>\n",
              "      <td>341</td>\n",
              "      <td>273</td>\n",
              "      <td>173</td>\n",
              "      <td>147</td>\n",
              "      <td>89</td>\n",
              "      <td>80</td>\n",
              "      <td>69</td>\n",
              "      <td>49</td>\n",
              "      <td>31</td>\n",
              "      <td>27</td>\n",
              "      <td>23</td>\n",
              "      <td>11</td>\n",
              "      <td>50</td>\n",
              "    </tr>\n",
              "    <tr>\n",
              "      <th>1</th>\n",
              "      <td>2433</td>\n",
              "      <td>1872</td>\n",
              "      <td>1416</td>\n",
              "      <td>1043</td>\n",
              "      <td>790</td>\n",
              "      <td>594</td>\n",
              "      <td>474</td>\n",
              "      <td>318</td>\n",
              "      <td>298</td>\n",
              "      <td>208</td>\n",
              "      <td>139</td>\n",
              "      <td>112</td>\n",
              "      <td>70</td>\n",
              "      <td>62</td>\n",
              "      <td>46</td>\n",
              "      <td>25</td>\n",
              "      <td>19</td>\n",
              "      <td>19</td>\n",
              "      <td>12</td>\n",
              "      <td>50</td>\n",
              "    </tr>\n",
              "    <tr>\n",
              "      <th>2</th>\n",
              "      <td>2544</td>\n",
              "      <td>1839</td>\n",
              "      <td>1395</td>\n",
              "      <td>1072</td>\n",
              "      <td>810</td>\n",
              "      <td>601</td>\n",
              "      <td>425</td>\n",
              "      <td>336</td>\n",
              "      <td>237</td>\n",
              "      <td>175</td>\n",
              "      <td>127</td>\n",
              "      <td>101</td>\n",
              "      <td>73</td>\n",
              "      <td>63</td>\n",
              "      <td>42</td>\n",
              "      <td>38</td>\n",
              "      <td>23</td>\n",
              "      <td>23</td>\n",
              "      <td>21</td>\n",
              "      <td>55</td>\n",
              "    </tr>\n",
              "    <tr>\n",
              "      <th>3</th>\n",
              "      <td>2535</td>\n",
              "      <td>1872</td>\n",
              "      <td>1394</td>\n",
              "      <td>997</td>\n",
              "      <td>769</td>\n",
              "      <td>589</td>\n",
              "      <td>458</td>\n",
              "      <td>341</td>\n",
              "      <td>276</td>\n",
              "      <td>201</td>\n",
              "      <td>158</td>\n",
              "      <td>97</td>\n",
              "      <td>85</td>\n",
              "      <td>71</td>\n",
              "      <td>40</td>\n",
              "      <td>26</td>\n",
              "      <td>18</td>\n",
              "      <td>13</td>\n",
              "      <td>19</td>\n",
              "      <td>41</td>\n",
              "    </tr>\n",
              "    <tr>\n",
              "      <th>4</th>\n",
              "      <td>2467</td>\n",
              "      <td>1878</td>\n",
              "      <td>1421</td>\n",
              "      <td>1029</td>\n",
              "      <td>766</td>\n",
              "      <td>604</td>\n",
              "      <td>457</td>\n",
              "      <td>336</td>\n",
              "      <td>242</td>\n",
              "      <td>184</td>\n",
              "      <td>128</td>\n",
              "      <td>129</td>\n",
              "      <td>90</td>\n",
              "      <td>74</td>\n",
              "      <td>49</td>\n",
              "      <td>34</td>\n",
              "      <td>34</td>\n",
              "      <td>12</td>\n",
              "      <td>11</td>\n",
              "      <td>55</td>\n",
              "    </tr>\n",
              "  </tbody>\n",
              "</table>\n",
              "</div>"
            ],
            "text/plain": [
              "bin_nb        0     1     2     3    4    5    6    7    8    9   10   11  12  \\\n",
              "sample_nb                                                                       \n",
              "0          2449  1855  1390  1023  816  648  456  341  273  173  147   89  80   \n",
              "1          2433  1872  1416  1043  790  594  474  318  298  208  139  112  70   \n",
              "2          2544  1839  1395  1072  810  601  425  336  237  175  127  101  73   \n",
              "3          2535  1872  1394   997  769  589  458  341  276  201  158   97  85   \n",
              "4          2467  1878  1421  1029  766  604  457  336  242  184  128  129  90   \n",
              "\n",
              "bin_nb     13  14  15  16  17  18  19  \n",
              "sample_nb                              \n",
              "0          69  49  31  27  23  11  50  \n",
              "1          62  46  25  19  19  12  50  \n",
              "2          63  42  38  23  23  21  55  \n",
              "3          71  40  26  18  13  19  41  \n",
              "4          74  49  34  34  12  11  55  "
            ]
          },
          "metadata": {
            "tags": []
          },
          "execution_count": 24
        }
      ]
    },
    {
      "cell_type": "markdown",
      "metadata": {
        "id": "-hib4AftR_qP",
        "colab_type": "text"
      },
      "source": [
        "### analytical values and empirical sample means must match"
      ]
    },
    {
      "cell_type": "code",
      "metadata": {
        "id": "h5NY_qNBR_qQ",
        "colab_type": "code",
        "colab": {},
        "outputId": "bacda8b4-c409-488a-da0b-15b8fc825840"
      },
      "source": [
        "e1.plot_histograms_distribution()"
      ],
      "execution_count": 0,
      "outputs": [
        {
          "output_type": "stream",
          "text": [
            "100% (1000 of 1000) |####################| Elapsed Time: 0:00:01 Time:  0:00:01\n"
          ],
          "name": "stderr"
        },
        {
          "output_type": "display_data",
          "data": {
            "image/png": "[encoded data removed]",
            "text/plain": [
              "<Figure size 432x288 with 1 Axes>"
            ]
          },
          "metadata": {
            "tags": [],
            "needs_background": "light"
          }
        }
      ]
    },
    {
      "cell_type": "markdown",
      "metadata": {
        "id": "SnhkAW8GR_qV",
        "colab_type": "text"
      },
      "source": [
        "### each bin of sampled histograms must match the analytical distribution in eq $(3)$ above"
      ]
    },
    {
      "cell_type": "code",
      "metadata": {
        "id": "nKsX5mpFR_qW",
        "colab_type": "code",
        "colab": {},
        "outputId": "cd28e486-fe49-4fa4-d5cf-ff9d605f9865"
      },
      "source": [
        "e1.plot_bin_distributions()"
      ],
      "execution_count": 0,
      "outputs": [
        {
          "output_type": "stream",
          "text": [
            "100% (1000 of 1000) |####################| Elapsed Time: 0:00:01 Time:  0:00:01\n"
          ],
          "name": "stderr"
        },
        {
          "output_type": "display_data",
          "data": {
            "image/png": "[encoded data removed]",
            "text/plain": [
              "<Figure size 1425.6x388.8 with 20 Axes>"
            ]
          },
          "metadata": {
            "tags": [],
            "needs_background": "light"
          }
        }
      ]
    },
    {
      "cell_type": "markdown",
      "metadata": {
        "id": "J8YQjpUDR_qa",
        "colab_type": "text"
      },
      "source": [
        "# In a real experiment we only have one histogram (and only $n_i$, not its decomposition in $s_i$ and $b_i$)"
      ]
    },
    {
      "cell_type": "code",
      "metadata": {
        "id": "zQnJpMS1R_qa",
        "colab_type": "code",
        "colab": {},
        "outputId": "0b3a5aa1-36b0-43ef-bf87-ef6ba60ffbc8"
      },
      "source": [
        "e1 = h2d.BS_hist_experiment(t=0.03, mu_s=60, sigma_s=4, mu=1, stot=1000, btot=10000, bin_edges=bin_edges)\n",
        "sn, _,_ = e1.sample_histograms(n_samples=1)\n",
        "sn"
      ],
      "execution_count": 0,
      "outputs": [
        {
          "output_type": "execute_result",
          "data": {
            "text/html": [
              "<div>\n",
              "<style scoped>\n",
              "    .dataframe tbody tr th:only-of-type {\n",
              "        vertical-align: middle;\n",
              "    }\n",
              "\n",
              "    .dataframe tbody tr th {\n",
              "        vertical-align: top;\n",
              "    }\n",
              "\n",
              "    .dataframe thead th {\n",
              "        text-align: right;\n",
              "    }\n",
              "</style>\n",
              "<table border=\"1\" class=\"dataframe\">\n",
              "  <thead>\n",
              "    <tr style=\"text-align: right;\">\n",
              "      <th>bin_nb</th>\n",
              "      <th>0</th>\n",
              "      <th>1</th>\n",
              "      <th>2</th>\n",
              "      <th>3</th>\n",
              "      <th>4</th>\n",
              "      <th>5</th>\n",
              "      <th>6</th>\n",
              "      <th>7</th>\n",
              "      <th>8</th>\n",
              "      <th>9</th>\n",
              "      <th>10</th>\n",
              "      <th>11</th>\n",
              "      <th>12</th>\n",
              "      <th>13</th>\n",
              "      <th>14</th>\n",
              "      <th>15</th>\n",
              "      <th>16</th>\n",
              "      <th>17</th>\n",
              "      <th>18</th>\n",
              "      <th>19</th>\n",
              "    </tr>\n",
              "    <tr>\n",
              "      <th>sample_nb</th>\n",
              "      <th></th>\n",
              "      <th></th>\n",
              "      <th></th>\n",
              "      <th></th>\n",
              "      <th></th>\n",
              "      <th></th>\n",
              "      <th></th>\n",
              "      <th></th>\n",
              "      <th></th>\n",
              "      <th></th>\n",
              "      <th></th>\n",
              "      <th></th>\n",
              "      <th></th>\n",
              "      <th></th>\n",
              "      <th></th>\n",
              "      <th></th>\n",
              "      <th></th>\n",
              "      <th></th>\n",
              "      <th></th>\n",
              "      <th></th>\n",
              "    </tr>\n",
              "  </thead>\n",
              "  <tbody>\n",
              "    <tr>\n",
              "      <th>0</th>\n",
              "      <td>2476</td>\n",
              "      <td>1797</td>\n",
              "      <td>1408</td>\n",
              "      <td>1080</td>\n",
              "      <td>816</td>\n",
              "      <td>796</td>\n",
              "      <td>1190</td>\n",
              "      <td>386</td>\n",
              "      <td>248</td>\n",
              "      <td>201</td>\n",
              "      <td>160</td>\n",
              "      <td>113</td>\n",
              "      <td>75</td>\n",
              "      <td>62</td>\n",
              "      <td>49</td>\n",
              "      <td>39</td>\n",
              "      <td>27</td>\n",
              "      <td>19</td>\n",
              "      <td>12</td>\n",
              "      <td>46</td>\n",
              "    </tr>\n",
              "  </tbody>\n",
              "</table>\n",
              "</div>"
            ],
            "text/plain": [
              "bin_nb        0     1     2     3    4    5     6    7    8    9   10   11  \\\n",
              "sample_nb                                                                    \n",
              "0          2476  1797  1408  1080  816  796  1190  386  248  201  160  113   \n",
              "\n",
              "bin_nb     12  13  14  15  16  17  18  19  \n",
              "sample_nb                                  \n",
              "0          75  62  49  39  27  19  12  46  "
            ]
          },
          "metadata": {
            "tags": []
          },
          "execution_count": 27
        }
      ]
    },
    {
      "cell_type": "code",
      "metadata": {
        "id": "dyeQ-3euR_qf",
        "colab_type": "code",
        "colab": {},
        "outputId": "d6d30b58-f17f-4126-b22e-474cce1674ab"
      },
      "source": [
        "e1.get_loglikelihood_estimate_for_mu(sn.values[0])"
      ],
      "execution_count": 0,
      "outputs": [
        {
          "output_type": "execute_result",
          "data": {
            "text/plain": [
              "1.0044623671109274"
            ]
          },
          "metadata": {
            "tags": []
          },
          "execution_count": 28
        }
      ]
    },
    {
      "cell_type": "code",
      "metadata": {
        "id": "LGOIw9MxR_qj",
        "colab_type": "code",
        "colab": {},
        "outputId": "870d5035-5061-47f3-a376-5d492ffeb661"
      },
      "source": [
        "e1.plot_loglikelihood(sn.values[0])"
      ],
      "execution_count": 0,
      "outputs": [
        {
          "output_type": "display_data",
          "data": {
            "image/png": "[encoded data removed]",
            "text/plain": [
              "<Figure size 432x288 with 1 Axes>"
            ]
          },
          "metadata": {
            "tags": [],
            "needs_background": "light"
          }
        }
      ]
    },
    {
      "cell_type": "markdown",
      "metadata": {
        "id": "Cw_VqoPdR_qn",
        "colab_type": "text"
      },
      "source": [
        "### distribution of MLE for $\\mu$ with 10,20 and 50 bins"
      ]
    },
    {
      "cell_type": "code",
      "metadata": {
        "id": "XN1W9CXpR_qn",
        "colab_type": "code",
        "colab": {},
        "outputId": "a08b242f-c39c-458f-e039-d47b9dd95f61"
      },
      "source": [
        "n_bins = 20\n",
        "bin_edges = np.r_[list(np.linspace(0,180,n_bins))+[np.inf]]\n",
        "self = h2d.BS_hist_experiment(t=0.03, mu_s=60, sigma_s=4, mu=1, stot=500, btot=5000, bin_edges=bin_edges)\n",
        "\n",
        "sn, _,_ = self.sample_histograms(n_samples=500)\n",
        "mle_mu = [self.get_loglikelihood_estimate_for_mu(i.values) for _,i in pbar(sn.iterrows(), max_value=len(sn))]\n",
        "plt.hist(mle_mu, bins=30, alpha=.5, density=True);\n",
        "h2d.plot_kdensity_smoothed_histogram(mle_mu)\n",
        "plt.axvline(self.mu, color=\"black\", label=\"actual $\\mu$\")\n",
        "plt.legend(); plt.grid();"
      ],
      "execution_count": 0,
      "outputs": [
        {
          "output_type": "stream",
          "text": [
            "100% (500 of 500) |######################| Elapsed Time: 0:00:00 Time:  0:00:00\n",
            "100% (500 of 500) |######################| Elapsed Time: 0:01:44 Time:  0:01:44\n"
          ],
          "name": "stderr"
        },
        {
          "output_type": "display_data",
          "data": {
            "image/png": "[encoded data removed]",
            "text/plain": [
              "<Figure size 432x288 with 1 Axes>"
            ]
          },
          "metadata": {
            "tags": [],
            "needs_background": "light"
          }
        }
      ]
    },
    {
      "cell_type": "code",
      "metadata": {
        "id": "jYnQAzLCR_qq",
        "colab_type": "code",
        "colab": {},
        "outputId": "79bf5237-6edb-4616-9aa3-3ff8b3dd5a03"
      },
      "source": [
        "n_bins = 10\n",
        "bin_edges = np.r_[list(np.linspace(0,180,n_bins))+[np.inf]]\n",
        "self = h2d.BS_hist_experiment(t=0.03, mu_s=60, sigma_s=4, mu=1, stot=500, btot=5000, bin_edges=bin_edges)\n",
        "\n",
        "sn, _,_ = self.sample_histograms(n_samples=500)\n",
        "mle_mu = [self.get_loglikelihood_estimate_for_mu(i.values) for _,i in pbar(sn.iterrows(), max_value=len(sn))]\n",
        "plt.hist(mle_mu, bins=30, alpha=.5, density=True);\n",
        "h2d.plot_kdensity_smoothed_histogram(mle_mu)\n",
        "plt.axvline(self.mu, color=\"black\", label=\"actual $\\mu$\")\n",
        "plt.legend(); plt.grid();"
      ],
      "execution_count": 0,
      "outputs": [
        {
          "output_type": "stream",
          "text": [
            "100% (500 of 500) |######################| Elapsed Time: 0:00:00 Time:  0:00:00\n",
            "100% (500 of 500) |######################| Elapsed Time: 0:00:44 Time:  0:00:44\n"
          ],
          "name": "stderr"
        },
        {
          "output_type": "display_data",
          "data": {
            "image/png": "[encoded data removed]",
            "text/plain": [
              "<Figure size 432x288 with 1 Axes>"
            ]
          },
          "metadata": {
            "tags": [],
            "needs_background": "light"
          }
        }
      ]
    },
    {
      "cell_type": "code",
      "metadata": {
        "id": "0vgNkpFTR_qt",
        "colab_type": "code",
        "colab": {},
        "outputId": "bf2a11ae-dc91-478f-b4c9-99890e7a8c0f"
      },
      "source": [
        "n_bins = 50\n",
        "bin_edges = np.r_[list(np.linspace(0,180,n_bins))+[np.inf]]\n",
        "self = h2d.BS_hist_experiment(t=0.03, mu_s=60, sigma_s=4, mu=1, stot=500, btot=5000, bin_edges=bin_edges)\n",
        "sn, _,_ = self.sample_histograms(n_samples=500)\n",
        "mle_mu = [self.get_loglikelihood_estimate_for_mu(i.values) for _,i in pbar(sn.iterrows(), max_value=len(sn))]\n",
        "plt.hist(mle_mu, bins=30, alpha=.5, density=True);\n",
        "h2d.plot_kdensity_smoothed_histogram(mle_mu)\n",
        "plt.axvline(self.mu, color=\"black\", label=\"actual $\\mu$\")\n",
        "plt.legend(); plt.grid();"
      ],
      "execution_count": 0,
      "outputs": [
        {
          "output_type": "stream",
          "text": [
            "100% (500 of 500) |######################| Elapsed Time: 0:00:00 Time:  0:00:00\n",
            "100% (500 of 500) |######################| Elapsed Time: 0:04:02 Time:  0:04:02\n"
          ],
          "name": "stderr"
        },
        {
          "output_type": "display_data",
          "data": {
            "image/png": "[encoded data removed]",
            "text/plain": [
              "<Figure size 432x288 with 1 Axes>"
            ]
          },
          "metadata": {
            "tags": [],
            "needs_background": "light"
          }
        }
      ]
    },
    {
      "cell_type": "code",
      "metadata": {
        "id": "ldzNiJYFR_qw",
        "colab_type": "code",
        "colab": {}
      },
      "source": [
        ""
      ],
      "execution_count": 0,
      "outputs": []
    }
  ]
}